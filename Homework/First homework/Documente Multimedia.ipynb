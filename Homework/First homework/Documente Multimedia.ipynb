{
 "cells": [
  {
   "cell_type": "markdown",
   "id": "60aa168e",
   "metadata": {},
   "source": [
    "## MIHĂILĂ IULIANA-RALUCA - Laborator 3 AM"
   ]
  },
  {
   "cell_type": "markdown",
   "id": "063aa290",
   "metadata": {},
   "source": [
    "## Fisiere XML"
   ]
  },
  {
   "cell_type": "markdown",
   "id": "4db93a7f",
   "metadata": {},
   "source": [
    "### De rezolvat\n",
    "Plecand de la exemplele de mai sus, creati un fisier XML de adnotare pentru imaginea *adnotare2.jpeg*, stiind punctul de inceput (xmin, ymin), si punctul de final (xmax, ymax) al patratului care incadreaza obiectul."
   ]
  },
  {
   "cell_type": "code",
   "execution_count": 20,
   "id": "a3c82355",
   "metadata": {},
   "outputs": [],
   "source": [
    "import xml.etree.ElementTree as ET\n",
    "import cv2\n",
    "\n",
    "xmin = 593\n",
    "ymin = 24\n",
    "xmax = 689\n",
    "ymax = 369\n",
    "\n",
    "img = cv2.imread('adnotare2.jpeg')\n",
    "img = cv2.rectangle(img, (xmin, ymin), (xmax, ymax), color=(255, 0, 0), thickness=2)\n",
    "img = cv2.putText(img, 'Door', (xmin, ymin), cv2.FONT_HERSHEY_SIMPLEX, 1, (255, 0, 0), 2, cv2.LINE_AA)\n",
    "            \n",
    "cv2.imshow(\"Imagine\", img)\n",
    "cv2.waitKey(0)\n",
    "cv2.destroyAllWindows()\n",
    "\n",
    "# TODO: Generare si scriere pe disc fisier XML\n",
    "\n",
    "file_name = \"adnotare2.xml\"\n",
    "\n",
    "root = ET.Element(\"annotation\")\n",
    "\n",
    "e1 = ET.Element(\"filename\")\n",
    "e1.text = \"img\"\n",
    "root.append(e1)\n",
    "\n",
    "e2 = ET.Element(\"size\")\n",
    "root.append(e2)\n",
    "\n",
    "s1 = ET.SubElement(e2, \"width\")\n",
    "s1.text = \"1248\"\n",
    "s2 = ET.SubElement(e2, \"height\")\n",
    "s2.text = \"384\"\n",
    "s3 = ET.SubElement(e2, \"depth\")\n",
    "s3.text = \"3\"\n",
    "\n",
    "e3 = ET.Element(\"object\")\n",
    "root.append (e3)\n",
    "\n",
    "s1 = ET.SubElement(e3, \"name\")\n",
    "s1.text = \"Door\"\n",
    "\n",
    "tree = ET.ElementTree(root)\n",
    "\n",
    "with open(file_name, \"wb\") as files :\n",
    "    tree.write(files)"
   ]
  },
  {
   "cell_type": "markdown",
   "id": "a00d5a5f",
   "metadata": {},
   "source": [
    "## DOCX"
   ]
  },
  {
   "cell_type": "markdown",
   "id": "fc96f8f9",
   "metadata": {},
   "source": [
    "### De rezolvat\n",
    "Generati un fisier DOCX care sa contina:\n",
    " - un titlu\n",
    " - un tabel cu array-urile x si y (cu denumire intr-un paragraf inaintea tabelului)\n",
    " - o imagine cu graficul functiei y = x^2 + 10 (cu denumire intr-un paragraf inaintea imaginii), pe o pagina separata"
   ]
  },
  {
   "cell_type": "code",
   "execution_count": 82,
   "id": "6010f1d5",
   "metadata": {},
   "outputs": [
    {
     "data": {
      "image/png": "[encoded data removed]",
      "text/plain": [
       "<Figure size 432x288 with 1 Axes>"
      ]
     },
     "metadata": {
      "needs_background": "light"
     },
     "output_type": "display_data"
    }
   ],
   "source": [
    "import docx\n",
    "from docx.shared import Inches\n",
    "import numpy as np\n",
    "from matplotlib import pyplot as plt\n",
    "\n",
    "document = docx.Document()\n",
    "\n",
    "# Titlu document\n",
    "document.add_heading('Aplicatii Multimedia Laborator 3 - Mihaila Iuliana Raluca', 0)\n",
    "\n",
    "document.add_heading('Tabel valori', level=1)\n",
    "\n",
    "tabel = document.add_table(rows=1, cols=2)\n",
    "hdr_cells = tabel.rows[0].cells\n",
    "hdr_cells[0].text = 'x'\n",
    "hdr_cells[1].text = 'y'\n",
    "\n",
    "# Generarea unui array aleator de 10 numere intre 0 si 1 si sortarea lor crescatoare\n",
    "x = np.sort(np.random.rand(10))\n",
    "\n",
    "# Definirea axei y ca o functie de x\n",
    "y = x * x + 10\n",
    "\n",
    "for i in range(10):\n",
    "    celule_rand = tabel.add_row().cells\n",
    "    celule_rand[0].text = str(x[i])\n",
    "    celule_rand[1].text = str(y[i])\n",
    "\n",
    "document.add_page_break()\n",
    "document.add_heading('Graficul functiei y = x^2 + 10', level=1)\n",
    "\n",
    "# Plotarea functiei\n",
    "plt.plot(x, y, ls='solid', linewidth=2, color='black')\n",
    "\n",
    "# Atribuirea unui titlu graficului\n",
    "plt.title(\"Grafic\")\n",
    "\n",
    "# Salvarea graficului sub forma de imagine\n",
    "plt.savefig(\"generated_plot.png\")\n",
    "\n",
    "document.add_picture(\"generated_plot.png\")\n",
    "\n",
    "document.save('output.docx')\n"
   ]
  },
  {
   "cell_type": "markdown",
   "id": "200e897f",
   "metadata": {},
   "source": [
    "## Fisiere PDF si CSV"
   ]
  },
  {
   "cell_type": "markdown",
   "id": "04ffeef4",
   "metadata": {},
   "source": [
    "### De rezolvat\n",
    "Cititi valorile din fisierul CSV de la punctul anterior in 3 vectori/ liste (xr, yr si sumr).\n",
    "\n",
    "Afisati o functie care sa aiba pe axa x vectorul xr, iar pe axa y vectorul yr si salvati o imagine cu acest grafic.\n",
    "\n",
    "Generati un fisier PDF care sa contina:\n",
    " - un titlu\n",
    " - un tabel cu vectorii xr, yr, sumr (cu denumire intr-un paragraf inaintea tabelului)\n",
    " - imaginea cu graficul generat mai sus (cu denumire intr-un paragraf inaintea imaginii), pe o noua pagina"
   ]
  },
  {
   "cell_type": "code",
   "execution_count": 81,
   "id": "1d1958d4",
   "metadata": {},
   "outputs": [
    {
     "name": "stdout",
     "output_type": "stream",
     "text": [
      "Xr este: ['xr', '0.3343920802893894', '0.3399384901491752', '0.3916549633856211', '0.5225335373029163', '0.5677603889832368', '0.5763810800655886', '0.6780269737636214', '0.737608807872466', '0.7617907270267508', '0.8806701728027432']\n",
      "Yr este: ['yr', '0.0478252138220846', '0.1178116489789085', '0.20087526646220166', '0.2185521181730512', '0.5719314388272585', '0.6517009329304511', '0.7591814553043794', '0.7667361335424968', '0.7779508405948184', '0.8256313492760626']\n",
      "Sumr este: ['sumr', '0.382217294111474', '0.4577501391280837', '0.5925302298478228', '0.7410856554759675', '1.1396918278104953', '1.2280820129960397', '1.4372084290680007', '1.5043449414149628', '1.539741567621569', '1.7063015220788058']\n"
     ]
    },
    {
     "data": {
      "image/png": "[encoded data removed]",
      "text/plain": [
       "<Figure size 432x288 with 1 Axes>"
      ]
     },
     "metadata": {
      "needs_background": "light"
     },
     "output_type": "display_data"
    }
   ],
   "source": [
    "import fpdf\n",
    "from fpdf import FPDF\n",
    "\n",
    "# Crearea unui fisier CSV in Python\n",
    "import csv\n",
    "import numpy as np\n",
    "from matplotlib import pyplot as plt\n",
    "\n",
    "header = ['xr', 'yr', 'sumr']\n",
    "x = np.sort(np.random.rand(10))\n",
    "y = np.sort(np.random.rand(10))\n",
    "suma = x + y\n",
    "\n",
    "with open('Date.csv', 'w', encoding='UTF8') as f:\n",
    "    writer = csv.writer(f)\n",
    "\n",
    "    # Scriere header\n",
    "    writer.writerow(header)\n",
    "\n",
    "    # Scriere date\n",
    "    for i in range(0, len(x)):\n",
    "        writer.writerow([x[i], y[i], suma[i]])\n",
    "\n",
    "        \n",
    "xr = []\n",
    "yr = []\n",
    "sumr = []\n",
    "\n",
    "# Citirea fisierului CSV creat mai sus\n",
    "\n",
    "with open('date.csv', newline='\\n') as f:\n",
    "    reader = csv.reader(f)\n",
    "    for row in reader:\n",
    "        xr.append(row[0])\n",
    "        yr.append(row[1])\n",
    "        sumr.append(row[2])\n",
    "\n",
    "print(f\"Xr este: {xr}\")\n",
    "print(f\"Yr este: {yr}\")\n",
    "print(f\"Sumr este: {sumr}\")\n",
    "\n",
    "\n",
    "data = []\n",
    "\n",
    "for i in range(len(xr)):\n",
    "    data.append((xr[i], yr[i], sumr[i]))\n",
    "\n",
    "left_margin = 20\n",
    "right_margin = 20\n",
    "top_margin = 20\n",
    "\n",
    "class FPDF_Class(FPDF, fpdf.HTMLMixin):\n",
    "    pass\n",
    "\n",
    "pdf = FPDF_Class()\n",
    "pdf.set_margins(left=left_margin, top=top_margin, right=right_margin)\n",
    "\n",
    "pdf.add_page()\n",
    "# Setare font\n",
    "pdf.set_font('Arial', 'B',size=18)\n",
    "pdf.cell(0, 5, 'Aplicatii Multimedia Laborator 3 - Mihaila Iuliana Raluca', ln=1)\n",
    "pdf.ln(20)\n",
    "pdf.set_font('Arial', 'B',size=18)\n",
    "pdf.cell(0, 5, 'Tabel', ln=1)\n",
    "pdf.ln(10)\n",
    "pdf.set_font(\"Times\", 'B', size=18)\n",
    "\n",
    "pdf.set_font(\"Times\", size=12)\n",
    "line_height = pdf.font_size * 2.5\n",
    "col_width = pdf.epw / 4\n",
    "\n",
    "for row in data:\n",
    "    for i in row:\n",
    "        pdf.multi_cell(col_width, line_height, i, border=1, ln=3, max_line_height=pdf.font_size)\n",
    "    pdf.ln(line_height)\n",
    "pdf.ln(5)\n",
    "\n",
    "pdf.add_page()\n",
    "\n",
    "pdf.set_font('Arial', 'B',size=18)\n",
    "pdf.cell(0, 5, 'Grafic functie', ln=1)\n",
    "plt.plot(x, y, ls='solid', linewidth=2, color='black')\n",
    "plt.savefig(\"generated_plot_pdf.png\")\n",
    "pdf.image( \"generated_plot_pdf.png\", w=125)\n",
    "pdf.ln(5)\n",
    "\n",
    "\n",
    "pdf.output('output.pdf')\n"
   ]
  }
 ],
 "metadata": {
  "kernelspec": {
   "display_name": "Python 3 (ipykernel)",
   "language": "python",
   "name": "python3"
  },
  "language_info": {
   "codemirror_mode": {
    "name": "ipython",
    "version": 3
   },
   "file_extension": ".py",
   "mimetype": "text/x-python",
   "name": "python",
   "nbconvert_exporter": "python",
   "pygments_lexer": "ipython3",
   "version": "3.10.2"
  }
 },
 "nbformat": 4,
 "nbformat_minor": 5
}
