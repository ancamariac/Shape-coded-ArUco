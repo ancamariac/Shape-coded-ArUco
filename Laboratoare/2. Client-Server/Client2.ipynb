{
 "cells": [
  {
   "cell_type": "markdown",
   "id": "ac12f1ea",
   "metadata": {},
   "source": [
    "##  Exemplu 2: clientul 2 se conecteaza la server, trimite mesaje si primeste raspuns"
   ]
  },
  {
   "cell_type": "code",
   "execution_count": 1,
   "id": "93675b60",
   "metadata": {},
   "outputs": [
    {
     "name": "stdout",
     "output_type": "stream",
     "text": [
      "Primit de la server:  Salut client 2, esti conexiunea numarul 13\n",
      "Primit de la server:  Salut client 2, esti conexiunea numarul 14\n",
      "Primit de la server:  Salut client 2, esti conexiunea numarul 15\n"
     ]
    },
    {
     "ename": "ConnectionResetError",
     "evalue": "[WinError 10054] An existing connection was forcibly closed by the remote host",
     "output_type": "error",
     "traceback": [
      "\u001b[1;31m---------------------------------------------------------------------------\u001b[0m",
      "\u001b[1;31mConnectionResetError\u001b[0m                      Traceback (most recent call last)",
      "\u001b[1;32m~\\AppData\\Local\\Temp/ipykernel_10492/2170574973.py\u001b[0m in \u001b[0;36m<module>\u001b[1;34m\u001b[0m\n\u001b[0;32m     16\u001b[0m         \u001b[0mmessage_bytes\u001b[0m \u001b[1;33m=\u001b[0m \u001b[0mstr\u001b[0m\u001b[1;33m.\u001b[0m\u001b[0mencode\u001b[0m\u001b[1;33m(\u001b[0m \u001b[0mmessage\u001b[0m \u001b[1;33m)\u001b[0m\u001b[1;33m\u001b[0m\u001b[1;33m\u001b[0m\u001b[0m\n\u001b[0;32m     17\u001b[0m         \u001b[1;31m# Trimiterea intregului mesaj pe socket\u001b[0m\u001b[1;33m\u001b[0m\u001b[1;33m\u001b[0m\u001b[0m\n\u001b[1;32m---> 18\u001b[1;33m         \u001b[0mtcp_sock\u001b[0m\u001b[1;33m.\u001b[0m\u001b[0msendall\u001b[0m\u001b[1;33m(\u001b[0m \u001b[0mmessage_bytes\u001b[0m \u001b[1;33m)\u001b[0m\u001b[1;33m\u001b[0m\u001b[1;33m\u001b[0m\u001b[0m\n\u001b[0m\u001b[0;32m     19\u001b[0m         \u001b[1;31m# Asteptare raspuns de la server\u001b[0m\u001b[1;33m\u001b[0m\u001b[1;33m\u001b[0m\u001b[0m\n\u001b[0;32m     20\u001b[0m         \u001b[0mdata\u001b[0m \u001b[1;33m=\u001b[0m \u001b[0mtcp_sock\u001b[0m\u001b[1;33m.\u001b[0m\u001b[0mrecv\u001b[0m\u001b[1;33m(\u001b[0m \u001b[0mBUFFER_SIZE\u001b[0m \u001b[1;33m)\u001b[0m\u001b[1;33m\u001b[0m\u001b[1;33m\u001b[0m\u001b[0m\n",
      "\u001b[1;31mConnectionResetError\u001b[0m: [WinError 10054] An existing connection was forcibly closed by the remote host"
     ]
    }
   ],
   "source": [
    "import socket\n",
    "import time\n",
    "\n",
    "HOST = \"127.0.0.1\"\n",
    "PORT = 34512\n",
    "\n",
    "BUFFER_SIZE  = 1024\n",
    "\n",
    "for i in range(0, 100):\n",
    "    with socket.socket(socket.AF_INET, socket.SOCK_STREAM) as tcp_sock:\n",
    "        tcp_sock.connect( (HOST, PORT) )\n",
    "        \n",
    "        # Construire mesaj catre server\n",
    "        message = \"Sunt clientul 2\"\n",
    "        # Encoding mesaj ca UTF-8\n",
    "        message_bytes = str.encode( message )\n",
    "        # Trimiterea intregului mesaj pe socket\n",
    "        tcp_sock.sendall( message_bytes )\n",
    "        # Asteptare raspuns de la server\n",
    "        data = tcp_sock.recv( BUFFER_SIZE )\n",
    "        decoded_data  = data.decode()\n",
    "    \n",
    "        print(\"Primit de la server: \", decoded_data)\n",
    "    tcp_sock.close()\n",
    "    #time.sleep(1)"
   ]
  },
  {
   "cell_type": "markdown",
   "id": "8e1fb96b",
   "metadata": {},
   "source": [
    "##  De rezolvat:\n",
    "#### Scrieti si rulati codul de mai sus eliminand delay-ul de o secunda ( *time.sleep(1)* ), atat pentru clientul 1, cat si pentru clientul 2\n",
    "#### Pentru server, folositi acelasi cod din Exemplul 2\n",
    "#### Capturati in Wireshark traficul si observati ce se intampla"
   ]
  },
  {
   "cell_type": "code",
   "execution_count": null,
   "id": "f5c98fd3",
   "metadata": {},
   "outputs": [],
   "source": []
  }
 ],
 "metadata": {
  "kernelspec": {
   "display_name": "Python 3 (ipykernel)",
   "language": "python",
   "name": "python3"
  },
  "language_info": {
   "codemirror_mode": {
    "name": "ipython",
    "version": 3
   },
   "file_extension": ".py",
   "mimetype": "text/x-python",
   "name": "python",
   "nbconvert_exporter": "python",
   "pygments_lexer": "ipython3",
   "version": "3.10.2"
  }
 },
 "nbformat": 4,
 "nbformat_minor": 5
}
