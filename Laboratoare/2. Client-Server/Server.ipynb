{
 "cells": [
  {
   "cell_type": "markdown",
   "id": "88c023d7",
   "metadata": {},
   "source": [
    "# TCP Server"
   ]
  },
  {
   "cell_type": "markdown",
   "id": "b4a76f17",
   "metadata": {},
   "source": [
    "## Exemplu 1: serverul trimite mesaj la conectarea unui client"
   ]
  },
  {
   "cell_type": "code",
   "execution_count": 1,
   "id": "6ddd0cbe",
   "metadata": {},
   "outputs": [
    {
     "name": "stdout",
     "output_type": "stream",
     "text": [
      "Info client conectat (IP Client:  127.0.0.1 , Port client:  62218 )\n"
     ]
    }
   ],
   "source": [
    "import socket\n",
    "\n",
    "# Adresa IP Server - localhost (daca rulam pe acelasi PC)\n",
    "HOST = \"127.0.0.1\"\n",
    "# Port server. Porturile >1023 sunt neprivilegiate\n",
    "PORT = 34512\n",
    "\n",
    "# Crearea unui socket TCP\n",
    "with socket.socket( socket.AF_INET, socket.SOCK_STREAM ) as tcp_sock:\n",
    "    # Asignarea unui IP si a unui port pe care serverul sa asculte\n",
    "    tcp_sock.bind( (HOST, PORT) )\n",
    "    # Serverul incepe astepte conexiuni pe IP-ul si portul asignat\n",
    "    tcp_sock.listen()\n",
    "    # Serverul blocheaza executia si asteapta conectarea unui client\n",
    "    connection, address = tcp_sock.accept()\n",
    "    \n",
    "    # Verificare daca conexiunea a fost realizata\n",
    "    with connection:\n",
    "        print( \"Info client conectat (IP Client: \", address[0], \", Port client: \", address[1], \")\" )\n",
    "        # Construire mesaj catre client\n",
    "        final_message = \"Salutari, client\"\n",
    "        # Codificare mesaj ca UTF-8\n",
    "        final_message_bytes = str.encode( final_message )\n",
    "        # Trimiterea intregului mesaj catre client pe socket\n",
    "        connection.sendall( final_message_bytes )\n",
    "    \n",
    "    # Inchidere socket\n",
    "    tcp_sock.close()"
   ]
  },
  {
   "cell_type": "markdown",
   "id": "40e39e12",
   "metadata": {},
   "source": [
    "## Exemplu 2: serverul primeste mesaj de la client si raspunde"
   ]
  },
  {
   "cell_type": "code",
   "execution_count": 1,
   "id": "0b3dcfe5",
   "metadata": {},
   "outputs": [
    {
     "name": "stdout",
     "output_type": "stream",
     "text": [
      "Info client conectat (IP Client:  127.0.0.1 , Port client:  62437 )\n",
      "Info client conectat (IP Client:  127.0.0.1 , Port client:  62438 )\n",
      "Info client conectat (IP Client:  127.0.0.1 , Port client:  62440 )\n",
      "Info client conectat (IP Client:  127.0.0.1 , Port client:  62441 )\n",
      "Info client conectat (IP Client:  127.0.0.1 , Port client:  62442 )\n",
      "Info client conectat (IP Client:  127.0.0.1 , Port client:  62443 )\n",
      "Info client conectat (IP Client:  127.0.0.1 , Port client:  62451 )\n",
      "Info client conectat (IP Client:  127.0.0.1 , Port client:  62452 )\n",
      "Info client conectat (IP Client:  127.0.0.1 , Port client:  62453 )\n",
      "Info client conectat (IP Client:  127.0.0.1 , Port client:  62455 )\n",
      "Info client conectat (IP Client:  127.0.0.1 , Port client:  62456 )\n",
      "Info client conectat (IP Client:  127.0.0.1 , Port client:  62457 )\n",
      "Info client conectat (IP Client:  127.0.0.1 , Port client:  62458 )\n",
      "Info client conectat (IP Client:  127.0.0.1 , Port client:  62460 )\n",
      "Info client conectat (IP Client:  127.0.0.1 , Port client:  62461 )\n",
      "Info client conectat (IP Client:  127.0.0.1 , Port client:  62462 )\n"
     ]
    },
    {
     "ename": "KeyboardInterrupt",
     "evalue": "",
     "output_type": "error",
     "traceback": [
      "\u001b[1;31m---------------------------------------------------------------------------\u001b[0m",
      "\u001b[1;31mKeyboardInterrupt\u001b[0m                         Traceback (most recent call last)",
      "\u001b[1;32m~\\AppData\\Local\\Temp/ipykernel_16404/192035497.py\u001b[0m in \u001b[0;36m<module>\u001b[1;34m\u001b[0m\n\u001b[0;32m     16\u001b[0m         \u001b[0mtcp_sock\u001b[0m\u001b[1;33m.\u001b[0m\u001b[0mbind\u001b[0m\u001b[1;33m(\u001b[0m \u001b[1;33m(\u001b[0m\u001b[0mHOST\u001b[0m\u001b[1;33m,\u001b[0m \u001b[0mPORT\u001b[0m\u001b[1;33m)\u001b[0m \u001b[1;33m)\u001b[0m\u001b[1;33m\u001b[0m\u001b[1;33m\u001b[0m\u001b[0m\n\u001b[0;32m     17\u001b[0m         \u001b[0mtcp_sock\u001b[0m\u001b[1;33m.\u001b[0m\u001b[0mlisten\u001b[0m\u001b[1;33m(\u001b[0m\u001b[1;33m)\u001b[0m\u001b[1;33m\u001b[0m\u001b[1;33m\u001b[0m\u001b[0m\n\u001b[1;32m---> 18\u001b[1;33m         \u001b[0mconn\u001b[0m\u001b[1;33m,\u001b[0m \u001b[0maddr\u001b[0m \u001b[1;33m=\u001b[0m \u001b[0mtcp_sock\u001b[0m\u001b[1;33m.\u001b[0m\u001b[0maccept\u001b[0m\u001b[1;33m(\u001b[0m\u001b[1;33m)\u001b[0m\u001b[1;33m\u001b[0m\u001b[1;33m\u001b[0m\u001b[0m\n\u001b[0m\u001b[0;32m     19\u001b[0m         \u001b[1;32mwith\u001b[0m \u001b[0mconn\u001b[0m\u001b[1;33m:\u001b[0m\u001b[1;33m\u001b[0m\u001b[1;33m\u001b[0m\u001b[0m\n\u001b[0;32m     20\u001b[0m             \u001b[0mprint\u001b[0m\u001b[1;33m(\u001b[0m \u001b[1;34m\"Info client conectat (IP Client: \"\u001b[0m\u001b[1;33m,\u001b[0m \u001b[0maddr\u001b[0m\u001b[1;33m[\u001b[0m\u001b[1;36m0\u001b[0m\u001b[1;33m]\u001b[0m\u001b[1;33m,\u001b[0m \u001b[1;34m\", Port client: \"\u001b[0m\u001b[1;33m,\u001b[0m \u001b[0maddr\u001b[0m\u001b[1;33m[\u001b[0m\u001b[1;36m1\u001b[0m\u001b[1;33m]\u001b[0m\u001b[1;33m,\u001b[0m \u001b[1;34m\")\"\u001b[0m \u001b[1;33m)\u001b[0m\u001b[1;33m\u001b[0m\u001b[1;33m\u001b[0m\u001b[0m\n",
      "\u001b[1;32m~\\anaconda3\\envs\\am\\lib\\socket.py\u001b[0m in \u001b[0;36maccept\u001b[1;34m(self)\u001b[0m\n\u001b[0;32m    291\u001b[0m         \u001b[0mFor\u001b[0m \u001b[0mIP\u001b[0m \u001b[0msockets\u001b[0m\u001b[1;33m,\u001b[0m \u001b[0mthe\u001b[0m \u001b[0maddress\u001b[0m \u001b[0minfo\u001b[0m \u001b[1;32mis\u001b[0m \u001b[0ma\u001b[0m \u001b[0mpair\u001b[0m \u001b[1;33m(\u001b[0m\u001b[0mhostaddr\u001b[0m\u001b[1;33m,\u001b[0m \u001b[0mport\u001b[0m\u001b[1;33m)\u001b[0m\u001b[1;33m.\u001b[0m\u001b[1;33m\u001b[0m\u001b[1;33m\u001b[0m\u001b[0m\n\u001b[0;32m    292\u001b[0m         \"\"\"\n\u001b[1;32m--> 293\u001b[1;33m         \u001b[0mfd\u001b[0m\u001b[1;33m,\u001b[0m \u001b[0maddr\u001b[0m \u001b[1;33m=\u001b[0m \u001b[0mself\u001b[0m\u001b[1;33m.\u001b[0m\u001b[0m_accept\u001b[0m\u001b[1;33m(\u001b[0m\u001b[1;33m)\u001b[0m\u001b[1;33m\u001b[0m\u001b[1;33m\u001b[0m\u001b[0m\n\u001b[0m\u001b[0;32m    294\u001b[0m         \u001b[0msock\u001b[0m \u001b[1;33m=\u001b[0m \u001b[0msocket\u001b[0m\u001b[1;33m(\u001b[0m\u001b[0mself\u001b[0m\u001b[1;33m.\u001b[0m\u001b[0mfamily\u001b[0m\u001b[1;33m,\u001b[0m \u001b[0mself\u001b[0m\u001b[1;33m.\u001b[0m\u001b[0mtype\u001b[0m\u001b[1;33m,\u001b[0m \u001b[0mself\u001b[0m\u001b[1;33m.\u001b[0m\u001b[0mproto\u001b[0m\u001b[1;33m,\u001b[0m \u001b[0mfileno\u001b[0m\u001b[1;33m=\u001b[0m\u001b[0mfd\u001b[0m\u001b[1;33m)\u001b[0m\u001b[1;33m\u001b[0m\u001b[1;33m\u001b[0m\u001b[0m\n\u001b[0;32m    295\u001b[0m         \u001b[1;31m# Issue #7995: if no default timeout is set and the listening\u001b[0m\u001b[1;33m\u001b[0m\u001b[1;33m\u001b[0m\u001b[0m\n",
      "\u001b[1;31mKeyboardInterrupt\u001b[0m: "
     ]
    }
   ],
   "source": [
    "import socket\n",
    "\n",
    "# Adresa IP Server - localhost (daca rulam pe acelasi PC)\n",
    "HOST = \"127.0.0.1\"\n",
    "# Port server. Porturile >1023 sunt neprivilegiate\n",
    "PORT = 34512\n",
    "\n",
    "# Dimensiunea maxima care va fi primita pe socket de la client\n",
    "BUFFER_SIZE  = 1024\n",
    "\n",
    "# Counter care va inregistra numarul de socket-uri deschise catre server\n",
    "conn_idx = 0\n",
    "\n",
    "while True:\n",
    "    with socket.socket( socket.AF_INET, socket.SOCK_STREAM ) as tcp_sock:\n",
    "        tcp_sock.bind( (HOST, PORT) )\n",
    "        tcp_sock.listen()\n",
    "        conn, addr = tcp_sock.accept()\n",
    "        with conn:\n",
    "            print( \"Info client conectat (IP Client: \", addr[0], \", Port client: \", addr[1], \")\" )\n",
    "            \n",
    "            data = conn.recv( BUFFER_SIZE )\n",
    "            \n",
    "            # Verificare daca au fost primite date de la client\n",
    "            if( not data ):\n",
    "                break\n",
    "            # Decodare mesaj primit de la client \n",
    "            decoded_data = data.decode()\n",
    "            # Spargere string provenit de la client si extragere numarului clientului\n",
    "            client_number = decoded_data.split(\" \")[-1]\n",
    "\n",
    "            # Construire mesaj catre client\n",
    "            final_message = \"Salut client \" + str( client_number ) + \", esti conexiunea numarul \" + str( conn_idx )\n",
    "            # Codificare mesaj ca UTF-8\n",
    "            final_message_bytes = str.encode( final_message )\n",
    "            conn_idx += 1\n",
    "            # Trimiterea intregului mesaj pe socket\n",
    "            conn.sendall( final_message_bytes )\n",
    "        \n",
    "        tcp_sock.close()"
   ]
  },
  {
   "cell_type": "markdown",
   "id": "7002a634",
   "metadata": {},
   "source": [
    "## Exemplu 3.1: serverul primeste o imagine de la client si o salveaza intr-un fisier"
   ]
  },
  {
   "cell_type": "code",
   "execution_count": 7,
   "id": "8a71a733",
   "metadata": {},
   "outputs": [
    {
     "name": "stdout",
     "output_type": "stream",
     "text": [
      "Info client conectat (IP Client:  127.0.0.1 , Port client:  62082 )\n"
     ]
    }
   ],
   "source": [
    "import socket\n",
    "import cv2\n",
    "import numpy as np\n",
    "\n",
    "HOST = \"127.0.0.1\"\n",
    "PORT = 34512\n",
    "\n",
    "# Dimensiunea imaginii asteptate\n",
    "BUFFER_SIZE  = 4000\n",
    "# Deschiderea unui fisier gol unde va fi salvata imaginea\n",
    "file = open('server_cat.png', 'wb')\n",
    "\n",
    "with socket.socket( socket.AF_INET, socket.SOCK_STREAM ) as tcp_sock:\n",
    "    tcp_sock.bind( (HOST, PORT) )\n",
    "    tcp_sock.listen()\n",
    "    conn, addr = tcp_sock.accept()\n",
    "    with conn:\n",
    "        print( \"Info client conectat (IP Client: \", addr[0], \", Port client: \", addr[1], \")\" )\n",
    "        # Primirea imaginii\n",
    "        data = conn.recv( BUFFER_SIZE )\n",
    "        if( data ):\n",
    "            # Scrierea imaginii pe disk\n",
    "            file.write( data )\n",
    "\n",
    "    file.close()\n",
    "    tcp_sock.close()"
   ]
  },
  {
   "cell_type": "markdown",
   "id": "0191eadd",
   "metadata": {},
   "source": [
    "## Exemplu 3.2: serverul primeste o imagine de la client si o afiseaza"
   ]
  },
  {
   "cell_type": "code",
   "execution_count": 2,
   "id": "4957d9bc",
   "metadata": {},
   "outputs": [
    {
     "name": "stdout",
     "output_type": "stream",
     "text": [
      "Info client conectat (IP Client:  127.0.0.1 , Port client:  56116 )\n",
      "A fost apasata tasta q\n"
     ]
    }
   ],
   "source": [
    "import socket\n",
    "import cv2\n",
    "import numpy as np\n",
    "\n",
    "HOST = \"127.0.0.1\"\n",
    "PORT = 34512\n",
    "\n",
    "# Dimensiunea imaginii asteptate\n",
    "BUFFER_SIZE  = 19200\n",
    "\n",
    "with socket.socket(socket.AF_INET, socket.SOCK_STREAM) as tcp_sock:\n",
    "    tcp_sock.bind( (HOST, PORT) )\n",
    "    tcp_sock.listen()\n",
    "    conn, addr = tcp_sock.accept()\n",
    "    with conn:\n",
    "        print( \"Info client conectat (IP Client: \", addr[0], \", Port client: \", addr[1], \")\" )\n",
    "        \n",
    "        data = conn.recv( BUFFER_SIZE )\n",
    "        \n",
    "        # Convertire date primite in array\n",
    "        image_array = np.frombuffer( data, np.uint8 )\n",
    "        # Decodare imagine in format OpenCV\n",
    "        image = cv2.imdecode( image_array, cv2.IMREAD_COLOR )\n",
    "        \n",
    "        # Afisare imagine pe ecran intr-o fereastra numita img\n",
    "        cv2.imshow('img', image)\n",
    "        # Asteptare apasare tasta\n",
    "        k = cv2.waitKey(0)\n",
    "        if( k == ord('q') ):\n",
    "            print('A fost apasata tasta q')\n",
    "             # Distrugerea tuturor ferestrelor desenate pe ecran\n",
    "            cv2.destroyAllWindows()\n",
    "        \n",
    "            # Construire si trimitere mesaj inapoi catre client\n",
    "            message = \"stop\"\n",
    "            message_bytes = str.encode( message )\n",
    "            conn.sendall( message_bytes )\n",
    "        else:\n",
    "            print('A fost apasata alta tasta')\n",
    "        \n",
    "            # Distrugerea tuturor ferestrelor desenate pe ecran\n",
    "            cv2.destroyAllWindows()\n",
    "        \n",
    "            # Construire si trimitere mesaj inapoi catre client\n",
    "            message = \"primit\"\n",
    "            message_bytes = str.encode( message )\n",
    "            conn.sendall( message_bytes )\n",
    "\n",
    "    tcp_sock.close()"
   ]
  },
  {
   "cell_type": "markdown",
   "id": "d255de8f",
   "metadata": {},
   "source": [
    "## De rezolvat: \n",
    "#### Primiti si afisati imagini de la client pana cand se introduce de la tastatura tasta q.\n",
    "#### Tasta apasata este citita cu *k = cv2.waitKey(0)*\n",
    "#### Pentru verificarea tastei apasate, se poate folosi expresia:\n",
    "`if( k == ord('q') ):\n",
    "    print('A fost apasata tasta q')\n",
    "else:\n",
    "    print('A fost apasata alta tasta')`"
   ]
  },
  {
   "cell_type": "code",
   "execution_count": 2,
   "id": "84fdb343",
   "metadata": {},
   "outputs": [
    {
     "ename": "KeyboardInterrupt",
     "evalue": "",
     "output_type": "error",
     "traceback": [
      "\u001b[1;31m---------------------------------------------------------------------------\u001b[0m",
      "\u001b[1;31mKeyboardInterrupt\u001b[0m                         Traceback (most recent call last)",
      "\u001b[1;32m~\\AppData\\Local\\Temp/ipykernel_2244/3765595777.py\u001b[0m in \u001b[0;36m<module>\u001b[1;34m\u001b[0m\n\u001b[0;32m      1\u001b[0m \u001b[1;32mimport\u001b[0m \u001b[0mcv2\u001b[0m\u001b[1;33m\u001b[0m\u001b[1;33m\u001b[0m\u001b[0m\n\u001b[0;32m      2\u001b[0m \u001b[1;32mwhile\u001b[0m\u001b[1;33m(\u001b[0m\u001b[0mk\u001b[0m \u001b[1;33m!=\u001b[0m \u001b[0mord\u001b[0m\u001b[1;33m(\u001b[0m\u001b[1;34m'q'\u001b[0m\u001b[1;33m)\u001b[0m\u001b[1;33m)\u001b[0m\u001b[1;33m:\u001b[0m\u001b[1;33m\u001b[0m\u001b[1;33m\u001b[0m\u001b[0m\n\u001b[1;32m----> 3\u001b[1;33m     \u001b[0mk\u001b[0m \u001b[1;33m=\u001b[0m \u001b[0mcv2\u001b[0m\u001b[1;33m.\u001b[0m\u001b[0mwaitKey\u001b[0m\u001b[1;33m(\u001b[0m\u001b[1;36m0\u001b[0m\u001b[1;33m)\u001b[0m\u001b[1;33m\u001b[0m\u001b[1;33m\u001b[0m\u001b[0m\n\u001b[0m\u001b[0;32m      4\u001b[0m     \u001b[1;32mif\u001b[0m\u001b[1;33m(\u001b[0m \u001b[0mk\u001b[0m \u001b[1;33m==\u001b[0m \u001b[0mord\u001b[0m\u001b[1;33m(\u001b[0m\u001b[1;34m'q'\u001b[0m\u001b[1;33m)\u001b[0m \u001b[1;33m)\u001b[0m\u001b[1;33m:\u001b[0m\u001b[1;33m\u001b[0m\u001b[1;33m\u001b[0m\u001b[0m\n\u001b[0;32m      5\u001b[0m         \u001b[0mprint\u001b[0m\u001b[1;33m(\u001b[0m\u001b[1;34m'A fost apasata tasta q'\u001b[0m\u001b[1;33m)\u001b[0m\u001b[1;33m\u001b[0m\u001b[1;33m\u001b[0m\u001b[0m\n",
      "\u001b[1;31mKeyboardInterrupt\u001b[0m: "
     ]
    }
   ],
   "source": [
    "import cv2\n",
    "while(k != ord('q')):\n",
    "    k = cv2.waitKey(0)\n",
    "    if( k == ord('q') ):\n",
    "        print('A fost apasata tasta q')"
   ]
  },
  {
   "cell_type": "markdown",
   "id": "fde6bb96",
   "metadata": {},
   "source": [
    "# UDP Server"
   ]
  },
  {
   "cell_type": "markdown",
   "id": "3e221045",
   "metadata": {},
   "source": [
    "## Exemplu 4: serverul asteapta un mesaj de la client si trimite un raspuns"
   ]
  },
  {
   "cell_type": "code",
   "execution_count": null,
   "id": "171f68d2",
   "metadata": {},
   "outputs": [],
   "source": [
    "import socket\n",
    "\n",
    "HOST = \"127.0.0.1\"\n",
    "PORT = 34512\n",
    "\n",
    "BUFFER_SIZE = 1024\n",
    "\n",
    "# Crearea unui socket UDP\n",
    "with socket.socket( socket.AF_INET, type=socket.SOCK_DGRAM ) as udp_sock:\n",
    "    # Asignarea unui IP si a unui port pe care serverul sa asculte\n",
    "    udp_sock.bind( (HOST, PORT) )\n",
    "\n",
    "    # Ascultare pentru datagrame incoming, de dimensiune maxima BUFFER_SIZE\n",
    "    data = udp_sock.recvfrom( BUFFER_SIZE )\n",
    "\n",
    "    message = data[0].decode()\n",
    "    address = data[1]\n",
    "\n",
    "    print( \"Mesaj de la client: \", message )\n",
    "    print( \"Info client conectat (IP Client: \", address[0], \", Port client: \", address[1], \")\" )\n",
    "    \n",
    "    # Spargere string provenit de la client si extragere numarului clientului\n",
    "    client_number = message.split(\" \")[-1]\n",
    "\n",
    "    server_message = \"Salutari de la server, client cu numarul \" + str( client_number )\n",
    "    server_message_bytes = str.encode( server_message )\n",
    "\n",
    "    # Trimitere raspuns catre client\n",
    "    udp_sock.sendto( server_message_bytes, address )\n",
    "    \n",
    "    udp_sock.close()"
   ]
  },
  {
   "cell_type": "markdown",
   "id": "240563a5",
   "metadata": {},
   "source": [
    "## De rezolvat: \n",
    "#### Pe baza codului de mai sus, scrieti un server UDP care sa astepte la infinit mesaje de la un client, sa numere cate conexiuni au fost deschise si sa ii trimita clientului inapoi indexul socketului pe care l-a deschis"
   ]
  },
  {
   "cell_type": "code",
   "execution_count": null,
   "id": "b3550285",
   "metadata": {},
   "outputs": [],
   "source": []
  }
 ],
 "metadata": {
  "kernelspec": {
   "display_name": "Python 3 (ipykernel)",
   "language": "python",
   "name": "python3"
  },
  "language_info": {
   "codemirror_mode": {
    "name": "ipython",
    "version": 3
   },
   "file_extension": ".py",
   "mimetype": "text/x-python",
   "name": "python",
   "nbconvert_exporter": "python",
   "pygments_lexer": "ipython3",
   "version": "3.10.2"
  }
 },
 "nbformat": 4,
 "nbformat_minor": 5
}
