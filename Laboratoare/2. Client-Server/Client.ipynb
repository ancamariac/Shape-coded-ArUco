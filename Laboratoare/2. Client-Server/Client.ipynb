{
 "cells": [
  {
   "cell_type": "markdown",
   "id": "8fbe4f60",
   "metadata": {},
   "source": [
    "# TCP Client"
   ]
  },
  {
   "cell_type": "markdown",
   "id": "0d44ee3e",
   "metadata": {},
   "source": [
    "##  Exemplu 1: clientul se conecteaza la server si primeste un mesaj"
   ]
  },
  {
   "cell_type": "code",
   "execution_count": 1,
   "id": "64d65b0e",
   "metadata": {},
   "outputs": [
    {
     "name": "stdout",
     "output_type": "stream",
     "text": [
      "Primit de la server:  Salutari, client\n"
     ]
    }
   ],
   "source": [
    "import socket\n",
    "\n",
    "# Adresa IP Server - localhost (daca rulam pe acelasi PC)\n",
    "HOST = \"127.0.0.1\"\n",
    "# Port server\n",
    "PORT = 34512  \n",
    "\n",
    "# Dimensiunea maxima care va fi primita pe socket de la client\n",
    "BUFFER_SIZE  = 1024\n",
    "\n",
    "# Deschiderea unui socket TCP\n",
    "with socket.socket( socket.AF_INET, socket.SOCK_STREAM ) as tcp_sock:\n",
    "    # Conectare la server\n",
    "    tcp_sock.connect( (HOST, PORT) )\n",
    "    # Blocare executie si asteptare mesaj de la server; Se vor citi cel mult 1024 de octeti\n",
    "    data = tcp_sock.recv( BUFFER_SIZE )\n",
    "    # Decodare octeti primiti in string\n",
    "    decoded_data  = data.decode()\n",
    "    print( \"Primit de la server: \", decoded_data )\n",
    "    \n",
    "    # Inchidere socket\n",
    "    tcp_sock.close()"
   ]
  },
  {
   "cell_type": "markdown",
   "id": "c6f514ab",
   "metadata": {},
   "source": [
    "##  Exemplu 2: clientul 1 se conecteaza la server, trimite mesaje si primeste raspuns"
   ]
  },
  {
   "cell_type": "code",
   "execution_count": 4,
   "id": "017ea8f8",
   "metadata": {},
   "outputs": [
    {
     "name": "stdout",
     "output_type": "stream",
     "text": [
      "Primit de la server:  Salut client 1, esti conexiunea numarul 9\n",
      "Primit de la server:  Salut client 1, esti conexiunea numarul 10\n",
      "Primit de la server:  Salut client 1, esti conexiunea numarul 11\n",
      "Primit de la server:  Salut client 1, esti conexiunea numarul 12\n"
     ]
    },
    {
     "ename": "ConnectionResetError",
     "evalue": "[WinError 10054] An existing connection was forcibly closed by the remote host",
     "output_type": "error",
     "traceback": [
      "\u001b[1;31m---------------------------------------------------------------------------\u001b[0m",
      "\u001b[1;31mConnectionResetError\u001b[0m                      Traceback (most recent call last)",
      "\u001b[1;32m~\\AppData\\Local\\Temp/ipykernel_3012/3283890063.py\u001b[0m in \u001b[0;36m<module>\u001b[1;34m\u001b[0m\n\u001b[0;32m     16\u001b[0m         \u001b[0mmessage_bytes\u001b[0m \u001b[1;33m=\u001b[0m \u001b[0mstr\u001b[0m\u001b[1;33m.\u001b[0m\u001b[0mencode\u001b[0m\u001b[1;33m(\u001b[0m \u001b[0mmessage\u001b[0m \u001b[1;33m)\u001b[0m\u001b[1;33m\u001b[0m\u001b[1;33m\u001b[0m\u001b[0m\n\u001b[0;32m     17\u001b[0m         \u001b[1;31m# Trimiterea intregului mesaj pe socket\u001b[0m\u001b[1;33m\u001b[0m\u001b[1;33m\u001b[0m\u001b[0m\n\u001b[1;32m---> 18\u001b[1;33m         \u001b[0mtcp_sock\u001b[0m\u001b[1;33m.\u001b[0m\u001b[0msendall\u001b[0m\u001b[1;33m(\u001b[0m \u001b[0mmessage_bytes\u001b[0m \u001b[1;33m)\u001b[0m\u001b[1;33m\u001b[0m\u001b[1;33m\u001b[0m\u001b[0m\n\u001b[0m\u001b[0;32m     19\u001b[0m         \u001b[1;31m# Asteptare raspuns de la server\u001b[0m\u001b[1;33m\u001b[0m\u001b[1;33m\u001b[0m\u001b[0m\n\u001b[0;32m     20\u001b[0m         \u001b[0mdata\u001b[0m \u001b[1;33m=\u001b[0m \u001b[0mtcp_sock\u001b[0m\u001b[1;33m.\u001b[0m\u001b[0mrecv\u001b[0m\u001b[1;33m(\u001b[0m \u001b[0mBUFFER_SIZE\u001b[0m \u001b[1;33m)\u001b[0m\u001b[1;33m\u001b[0m\u001b[1;33m\u001b[0m\u001b[0m\n",
      "\u001b[1;31mConnectionResetError\u001b[0m: [WinError 10054] An existing connection was forcibly closed by the remote host"
     ]
    }
   ],
   "source": [
    "import socket\n",
    "import time\n",
    "\n",
    "HOST = \"127.0.0.1\"\n",
    "PORT = 34512\n",
    "\n",
    "BUFFER_SIZE  = 1024\n",
    "\n",
    "for i in range(0, 100):\n",
    "    with socket.socket( socket.AF_INET, socket.SOCK_STREAM ) as tcp_sock:\n",
    "        tcp_sock.connect( (HOST, PORT) )\n",
    "        \n",
    "        # Construire mesaj catre server\n",
    "        message = \"Sunt clientul 1\"\n",
    "        # Codificare mesaj ca UTF-8\n",
    "        message_bytes = str.encode( message )\n",
    "        # Trimiterea intregului mesaj pe socket\n",
    "        tcp_sock.sendall( message_bytes )\n",
    "        # Asteptare raspuns de la server\n",
    "        data = tcp_sock.recv( BUFFER_SIZE )\n",
    "        decoded_data  = data.decode()\n",
    "    \n",
    "        print( \"Primit de la server: \", decoded_data )\n",
    "    tcp_sock.close()\n",
    "    #time.sleep(1)"
   ]
  },
  {
   "cell_type": "markdown",
   "id": "8b40ac76",
   "metadata": {},
   "source": [
    "##  De rezolvat:\n",
    "#### Scrieti si rulati codul de mai sus eliminand delay-ul de o secunda ( *time.sleep(1)* ), atat pentru clientul 1, cat si pentru clientul 2\n",
    "#### Pentru server, folositi acelasi cod din Exemplul 2\n",
    "#### Capturati in Wireshark traficul si observati ce se intampla"
   ]
  },
  {
   "cell_type": "code",
   "execution_count": null,
   "id": "7138ac06",
   "metadata": {},
   "outputs": [],
   "source": []
  },
  {
   "cell_type": "markdown",
   "id": "e3b4be00",
   "metadata": {},
   "source": [
    "## Exemplu 3.1: clientul citeste o imagine dintr-un fisier si o trimite la server"
   ]
  },
  {
   "cell_type": "code",
   "execution_count": 15,
   "id": "fd25c8cd",
   "metadata": {},
   "outputs": [],
   "source": [
    "import socket\n",
    "\n",
    "HOST = \"127.0.0.1\"\n",
    "PORT = 34512\n",
    "\n",
    "# Dimensiunea imaginii\n",
    "BUFFER_SIZE  = 2984\n",
    "\n",
    "file = open('cat.png', 'rb')\n",
    "# Citirea imaginii din fisier\n",
    "image_file = file.read( BUFFER_SIZE )\n",
    "\n",
    "with socket.socket( socket.AF_INET, socket.SOCK_STREAM ) as tcp_sock:\n",
    "    tcp_sock.connect( (HOST, PORT) )\n",
    "    \n",
    "    # Trimiterea imaginii pe socket\n",
    "    tcp_sock.send( image_file )\n",
    "\n",
    "    file.close()\n",
    "    tcp_sock.close()"
   ]
  },
  {
   "cell_type": "markdown",
   "id": "62a68208",
   "metadata": {},
   "source": [
    "## Exemplu 3.2: clientul citeste o imagine de la camera si o trimite la server"
   ]
  },
  {
   "cell_type": "code",
   "execution_count": 2,
   "id": "68bc842e",
   "metadata": {},
   "outputs": [
    {
     "name": "stdout",
     "output_type": "stream",
     "text": [
      "STOP\n"
     ]
    }
   ],
   "source": [
    "import socket\n",
    "import cv2\n",
    "\n",
    "HOST = \"127.0.0.1\"\n",
    "PORT = 34512\n",
    "\n",
    "# Dimensiunea imaginii redimensionate: 120*160\n",
    "BUFFER_SIZE  = 19200\n",
    "\n",
    "cap = cv2.VideoCapture(0)\n",
    "stop = 'a'\n",
    "\n",
    "with socket.socket( socket.AF_INET, socket.SOCK_STREAM ) as tcp_sock:\n",
    "    tcp_sock.connect( (HOST, PORT) )\n",
    "    \n",
    "    # Citire frame de la camera\n",
    "    ret, frame = cap.read()\n",
    "    # Redimensionare frame\n",
    "    frame = cv2.resize( frame, (160, 120) )\n",
    "    # Codare imagine citita ca jpg, in bytes\n",
    "    img_str = cv2.imencode('.jpg', frame)[1].tobytes()\n",
    "    \n",
    "    # Trimitere imagine\n",
    "    tcp_sock.send( img_str )\n",
    "    \n",
    "    # Asteptare raspuns de la server, decodare raspuns si afisare\n",
    "    data = tcp_sock.recv( 1024 )\n",
    "    decoded_data = data.decode()\n",
    "    \n",
    " \n",
    "    if( decoded_data == 'primit' ):\n",
    "        print('Imaginea a fost trimisa cu succes')\n",
    "    if( decoded_data == 'stop' ):\n",
    "        print('STOP')\n",
    "    \n",
    "    tcp_sock.close()\n",
    "    \n",
    "cap.release()"
   ]
  },
  {
   "cell_type": "markdown",
   "id": "3db749d9",
   "metadata": {},
   "source": [
    "## De rezolvat: \n",
    "#### Cititi imagini de la camera si trimiteti catre client, pana cand primiti ca raspuns 'stop'"
   ]
  },
  {
   "cell_type": "code",
   "execution_count": null,
   "id": "4f6b6748",
   "metadata": {},
   "outputs": [],
   "source": []
  },
  {
   "cell_type": "markdown",
   "id": "82ba2d7c",
   "metadata": {},
   "source": [
    "# UDP Client"
   ]
  },
  {
   "cell_type": "markdown",
   "id": "10f2b404",
   "metadata": {},
   "source": [
    "## Exemplu 4: clientul trimite un mesaj la server si asteapta un raspuns"
   ]
  },
  {
   "cell_type": "code",
   "execution_count": null,
   "id": "f13ec988",
   "metadata": {},
   "outputs": [],
   "source": [
    "import socket\n",
    "\n",
    "HOST = \"127.0.0.1\"\n",
    "PORT = 34512\n",
    "\n",
    "BUFFER_SIZE = 1024\n",
    "\n",
    "# Crearea unui socket UDP la client\n",
    "with socket.socket( socket.AF_INET, type=socket.SOCK_DGRAM ) as udp_sock:\n",
    "    # Construire mesaj de trimis\n",
    "    message = \"Salutari de la Clientul UDP 1\"\n",
    "    message_encoded = str.encode(message)\n",
    "\n",
    "    # Trimitere mesaj catre server\n",
    "    udp_sock.sendto( message_encoded, (HOST, PORT) )\n",
    "    \n",
    "    # Ascultare pentru datagrame incoming, de dimensiune maxima BUFFER_SIZE\n",
    "    server_message = udp_sock.recvfrom( BUFFER_SIZE )\n",
    "    server_message_decoded = server_message[0].decode()\n",
    "\n",
    "    print(\"Mesaj de la server: \", server_message_decoded)\n",
    "    \n",
    "    udp_sock.close()"
   ]
  },
  {
   "cell_type": "markdown",
   "id": "837b4df5",
   "metadata": {},
   "source": [
    "## De rezolvat: \n",
    "#### Pe baza codului de mai sus, scrieti un client UDP care sa deschida un socket catre server de 10 ori, sa trimita un mesaj de fiecare data si sa astepte un raspuns, la un interval de jumatate de secunda"
   ]
  },
  {
   "cell_type": "code",
   "execution_count": null,
   "id": "61328c55",
   "metadata": {},
   "outputs": [],
   "source": []
  }
 ],
 "metadata": {
  "kernelspec": {
   "display_name": "Python 3 (ipykernel)",
   "language": "python",
   "name": "python3"
  },
  "language_info": {
   "codemirror_mode": {
    "name": "ipython",
    "version": 3
   },
   "file_extension": ".py",
   "mimetype": "text/x-python",
   "name": "python",
   "nbconvert_exporter": "python",
   "pygments_lexer": "ipython3",
   "version": "3.10.2"
  }
 },
 "nbformat": 4,
 "nbformat_minor": 5
}
