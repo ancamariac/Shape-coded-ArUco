{
 "cells": [
  {
   "cell_type": "markdown",
   "id": "0492a1b6",
   "metadata": {},
   "source": [
    "## Spatii de culoare"
   ]
  },
  {
   "cell_type": "markdown",
   "id": "f6fe581d",
   "metadata": {},
   "source": [
    "#### Functie suport\n",
    "Construieste o imagine grid din mai multe poze de aceleasi dimensiuni, cu *cols* imagini pe orizontala si *rows* imagini pe verticala"
   ]
  },
  {
   "cell_type": "code",
   "execution_count": 3,
   "id": "70152759",
   "metadata": {},
   "outputs": [],
   "source": [
    "def colaj(img_array, cols, rows):\n",
    "    if( (cols * rows) > len(img_array) ):\n",
    "        for i in range(0, ((cols * rows) - len(img_array)) ):\n",
    "            img_array.append(np.zeros_like(img_array[0]))\n",
    "    if( len(img_array[0].shape) == 2 ):\n",
    "        h, w = img_array[0].shape\n",
    "    else:\n",
    "        h, w, _ = img_array[0].shape\n",
    "    full_frame = np.zeros([h*rows, w*cols,3])\n",
    "    i_array = 0\n",
    "    for j_col in range(0, cols):\n",
    "        for i_row in range(0, rows):\n",
    "            if( len(img_array[i_array].shape) == 2 ):\n",
    "                img_array[i_array] = cv2.cvtColor(img_array[i_array], cv2.COLOR_GRAY2BGR)\n",
    "            full_frame[i_row*h:(i_row+1)*h, j_col*w:(j_col+1)*w, :] = img_array[i_array]\n",
    "            i_array += 1\n",
    "    return np.array(full_frame).astype(np.uint8)"
   ]
  },
  {
   "cell_type": "markdown",
   "id": "61be88db",
   "metadata": {},
   "source": [
    "#### Conversii spatii de culoare\n",
    "Pentru o lista completa a spatiilor de culoare care pot fi utilizate in OpenCV accesati acest [link](https://docs.opencv.org/3.4/d8/d01/group__imgproc__color__conversions.html#gga4e0972be5de079fed4e3a10e24ef5ef0a353a4b8db9040165db4dacb5bcefb6ea)."
   ]
  },
  {
   "cell_type": "code",
   "execution_count": 2,
   "id": "c163b1d0",
   "metadata": {},
   "outputs": [],
   "source": [
    "import cv2\n",
    "import numpy as np\n",
    "\n",
    "FONT = cv2.FONT_HERSHEY_SIMPLEX\n",
    "SCALE = 1\n",
    "COL = (255, 255, 255)\n",
    "THK = 2\n",
    "ORIG = (50, 50)\n",
    "\n",
    "\n",
    "img = cv2.imread('images/weird_cat.bmp')\n",
    "\n",
    "\n",
    "#### RGB components  \n",
    "B, G, R = cv2.split(img)\n",
    "\n",
    "blue_frame = np.zeros_like(img)\n",
    "blue_frame[:,:,0] = B\n",
    "blue_frame = cv2.putText(blue_frame, 'Blue Colored', ORIG, FONT, SCALE, COL, THK, cv2.LINE_AA)\n",
    "\n",
    "green_frame = np.zeros_like(img)\n",
    "green_frame[:,:,1] = G\n",
    "green_frame = cv2.putText(green_frame, 'Green Colored', ORIG, FONT, SCALE, COL, THK, cv2.LINE_AA)\n",
    "\n",
    "red_frame = np.zeros_like(img)\n",
    "red_frame[:,:,2] = R\n",
    "red_frame = cv2.putText(red_frame, 'Red Colored', ORIG, FONT, SCALE, COL, THK, cv2.LINE_AA)\n",
    "\n",
    "\n",
    "\n",
    "B = cv2.cvtColor(B, cv2.COLOR_GRAY2BGR)\n",
    "B = cv2.putText(B, 'Blue 1 Ch', ORIG, FONT, SCALE, COL, THK, cv2.LINE_AA)\n",
    "\n",
    "G = cv2.cvtColor(G, cv2.COLOR_GRAY2BGR)\n",
    "G = cv2.putText(G, 'Green 1 Ch', ORIG, FONT, SCALE, COL, THK, cv2.LINE_AA)\n",
    "\n",
    "R = cv2.cvtColor(R, cv2.COLOR_GRAY2BGR)\n",
    "R = cv2.putText(R, 'Red 1 Ch', ORIG, FONT, SCALE, COL, THK, cv2.LINE_AA)\n",
    "\n",
    "###Grayscale image\n",
    "gray = cv2.cvtColor(img, cv2.COLOR_BGR2GRAY)\n",
    "gray = cv2.putText(gray, 'Grayscale', ORIG, FONT, SCALE, COL, THK, cv2.LINE_AA)\n",
    "\n",
    "####HSV color space\n",
    "hsv_image = cv2.cvtColor(img, cv2.COLOR_BGR2HSV)\n",
    "hsv_image = cv2.putText(hsv_image, 'HSV', ORIG, FONT, SCALE, COL, THK, cv2.LINE_AA)\n",
    "\n",
    "hsl_image = cv2.cvtColor(img, cv2.COLOR_BGR2HLS)\n",
    "hsl_image = cv2.putText(hsl_image, 'HLS', ORIG, FONT, SCALE, COL, THK, cv2.LINE_AA)\n",
    "\n",
    "ycrcb_image = cv2.cvtColor(img, cv2.COLOR_BGR2YCrCb)\n",
    "ycrcb_image = cv2.putText(ycrcb_image, 'YCrCb', ORIG, FONT, SCALE, COL, THK, cv2.LINE_AA)\n",
    "\n",
    "luv_image = cv2.cvtColor(img, cv2.COLOR_BGR2YUV )\n",
    "luv_image = cv2.putText(luv_image, 'YUV', ORIG, FONT, SCALE, COL, THK, cv2.LINE_AA)\n",
    "\n",
    "frame = cv2.putText(img, 'Original', ORIG, FONT, SCALE, COL, THK, cv2.LINE_AA)\n",
    "\n",
    "img_colaj = colaj([frame, gray, hsv_image, hsl_image, ycrcb_image, luv_image, B, G, R, blue_frame, green_frame, red_frame], 4, 3)\n",
    "\n",
    "cv2.imshow(\"All formats\", img_colaj)\n",
    "cv2.waitKey(0)\n",
    "cv2.destroyAllWindows()"
   ]
  },
  {
   "cell_type": "markdown",
   "id": "e1bd4e81",
   "metadata": {},
   "source": [
    "#### TODO: Folosind functia cv2.resize(), redimensionati img_colaj la jumatate din lungimea si jumatate din latimea sa si afisati-o\n",
    "Folosire cv2.resize: \n",
    "\n",
    "`img_redimensionata = cv2.resize(img_initiala, (width_nou, height_now))`\n",
    "\n",
    "Pentru a afla dimensiunea unei imagini putem folosi `img.shape`, care va returna un tuplu cu 2 sau 3 componente, astfel:\n",
    "\n",
    "`img_shape = img.shape\n",
    "height = img_shape[0]\n",
    "width = img_shape[1]\n",
    "nb_channels = img_shape[2] # doar daca imaginea este color; lipseste la grayscale`"
   ]
  },
  {
   "cell_type": "code",
   "execution_count": 1,
   "id": "93304474",
   "metadata": {
    "scrolled": true
   },
   "outputs": [
    {
     "ename": "NameError",
     "evalue": "name 'img_colaj' is not defined",
     "output_type": "error",
     "traceback": [
      "\u001b[1;31m---------------------------------------------------------------------------\u001b[0m",
      "\u001b[1;31mNameError\u001b[0m                                 Traceback (most recent call last)",
      "\u001b[1;32m~\\AppData\\Local\\Temp/ipykernel_15712/3009803680.py\u001b[0m in \u001b[0;36m<module>\u001b[1;34m\u001b[0m\n\u001b[1;32m----> 1\u001b[1;33m \u001b[0mimg_shape\u001b[0m \u001b[1;33m=\u001b[0m \u001b[0mimg_colaj\u001b[0m\u001b[1;33m.\u001b[0m\u001b[0mshape\u001b[0m\u001b[1;33m\u001b[0m\u001b[1;33m\u001b[0m\u001b[0m\n\u001b[0m\u001b[0;32m      2\u001b[0m \u001b[0mprint\u001b[0m\u001b[1;33m(\u001b[0m\u001b[0mimg_shape\u001b[0m\u001b[1;33m)\u001b[0m\u001b[1;33m\u001b[0m\u001b[1;33m\u001b[0m\u001b[0m\n\u001b[0;32m      3\u001b[0m \u001b[1;33m\u001b[0m\u001b[0m\n\u001b[0;32m      4\u001b[0m \u001b[0mimg_colaj_r\u001b[0m \u001b[1;33m=\u001b[0m \u001b[0mcv2\u001b[0m\u001b[1;33m.\u001b[0m\u001b[0mresize\u001b[0m\u001b[1;33m(\u001b[0m\u001b[0mimg_colaj\u001b[0m\u001b[1;33m,\u001b[0m \u001b[1;33m(\u001b[0m\u001b[0mint\u001b[0m\u001b[1;33m(\u001b[0m\u001b[0mimg_shape\u001b[0m\u001b[1;33m[\u001b[0m\u001b[1;36m1\u001b[0m\u001b[1;33m]\u001b[0m\u001b[1;33m/\u001b[0m\u001b[1;36m2\u001b[0m\u001b[1;33m)\u001b[0m\u001b[1;33m,\u001b[0m \u001b[0mint\u001b[0m\u001b[1;33m(\u001b[0m\u001b[0mimg_shape\u001b[0m\u001b[1;33m[\u001b[0m\u001b[1;36m0\u001b[0m\u001b[1;33m]\u001b[0m\u001b[1;33m/\u001b[0m\u001b[1;36m2\u001b[0m\u001b[1;33m)\u001b[0m\u001b[1;33m)\u001b[0m\u001b[1;33m)\u001b[0m\u001b[1;33m\u001b[0m\u001b[1;33m\u001b[0m\u001b[0m\n\u001b[0;32m      5\u001b[0m \u001b[0mprint\u001b[0m\u001b[1;33m(\u001b[0m\u001b[0mimg_colaj_r\u001b[0m\u001b[1;33m.\u001b[0m\u001b[0mshape\u001b[0m\u001b[1;33m)\u001b[0m\u001b[1;33m\u001b[0m\u001b[1;33m\u001b[0m\u001b[0m\n",
      "\u001b[1;31mNameError\u001b[0m: name 'img_colaj' is not defined"
     ]
    }
   ],
   "source": [
    "\n",
    "img_shape = img_colaj.shape\n",
    "print(img_shape)\n",
    "\n",
    "img_colaj_r = cv2.resize(img_colaj, (int(img_shape[1]/2), int(img_shape[0]/2)))\n",
    "print(img_colaj_r.shape)\n"
   ]
  },
  {
   "cell_type": "markdown",
   "id": "488c9748",
   "metadata": {},
   "source": [
    "#### Grayscale\n",
    "Convertire din OpenCV vs converire folosind formula: G = 0.299\\*R + 0.587\\*G + 0.114\\*B\n",
    "\n",
    "Link documentatie OpenCV despre [RGB to Grayscale](https://docs.opencv.org/3.4/de/d25/imgproc_color_conversions.html#color_convert_rgb_gray)"
   ]
  },
  {
   "cell_type": "code",
   "execution_count": 4,
   "id": "039e24fb",
   "metadata": {},
   "outputs": [
    {
     "name": "stdout",
     "output_type": "stream",
     "text": [
      "Conversia in OpenCV a durat:  0.0 ms\n",
      "Conversia calculata a durat:  18.0 ms\n"
     ]
    }
   ],
   "source": [
    "import time\n",
    "import cv2\n",
    "import numpy as np\n",
    "\n",
    "# Proprietati pentru text pe imagine\n",
    "FONT = cv2.FONT_HERSHEY_SIMPLEX\n",
    "SCALE = 1\n",
    "COL = (255, 255, 255)\n",
    "THK = 2\n",
    "ORIG = (50, 50)\n",
    "\n",
    "img = cv2.imread('images/weird_cat.bmp')\n",
    "\n",
    "t_start = time.time()*1000\n",
    "gray = cv2.cvtColor(img, cv2.COLOR_BGR2GRAY)\n",
    "t_end = time.time()*1000\n",
    "print(\"Conversia in OpenCV a durat: \", t_end - t_start, \"ms\")\n",
    "\n",
    "t_start = time.time()*1000\n",
    "gray_computed = np.array(0.299 * img[:,:,2] + 0.587 * img[:,:,1] + 0.114 * img[:,:,0]).astype(np.uint8)\n",
    "t_end = time.time()*1000\n",
    "print(\"Conversia calculata a durat: \", t_end - t_start, \"ms\")\n",
    "\n",
    "cvt_color_diff = np.abs(gray - gray_computed)*50\n",
    "\n",
    "gray = cv2.putText(gray, 'OpenCV', ORIG, FONT, SCALE, COL, THK, cv2.LINE_AA)\n",
    "gray_computed = cv2.putText(gray_computed, 'Computed Numpy', ORIG, FONT, SCALE, COL, THK, cv2.LINE_AA)\n",
    "\n",
    "combined_gray = colaj([gray, gray_computed], 2, 1)\n",
    "cv2.imshow('Grayscales', combined_gray)\n",
    "cv2.waitKey(0)\n",
    "cv2.destroyAllWindows()\n",
    "\n",
    "if( np.sum(cvt_color_diff) ):\n",
    "    print(\"Cele 2 conversii nu sunt perfect identice\")\n",
    "else:\n",
    "    print(\"Cele 2 conversii sunt identice\")\n",
    "\n",
    "cv2.imshow('Conversion difference', cvt_color_diff)\n",
    "cv2.waitKey(0)\n",
    "cv2.destroyAllWindows()"
   ]
  },
  {
   "cell_type": "markdown",
   "id": "c1739a27",
   "metadata": {},
   "source": [
    "#### TODO: Salvati fiecare canal al unei imagini color ca o imagine color, de culoarea canalului respectiv"
   ]
  },
  {
   "cell_type": "code",
   "execution_count": 2,
   "id": "503e2692",
   "metadata": {},
   "outputs": [
    {
     "ename": "ValueError",
     "evalue": "not enough values to unpack (expected 3, got 0)",
     "output_type": "error",
     "traceback": [
      "\u001b[1;31m---------------------------------------------------------------------------\u001b[0m",
      "\u001b[1;31mValueError\u001b[0m                                Traceback (most recent call last)",
      "\u001b[1;32m~\\AppData\\Local\\Temp/ipykernel_2044/1633253404.py\u001b[0m in \u001b[0;36m<module>\u001b[1;34m\u001b[0m\n\u001b[0;32m      1\u001b[0m \u001b[0mimg\u001b[0m \u001b[1;33m=\u001b[0m \u001b[0mcv2\u001b[0m\u001b[1;33m.\u001b[0m\u001b[0mimread\u001b[0m\u001b[1;33m(\u001b[0m\u001b[1;34m'images/weird_cat.bmp'\u001b[0m\u001b[1;33m)\u001b[0m\u001b[1;33m\u001b[0m\u001b[1;33m\u001b[0m\u001b[0m\n\u001b[0;32m      2\u001b[0m \u001b[1;33m\u001b[0m\u001b[0m\n\u001b[1;32m----> 3\u001b[1;33m \u001b[0mB\u001b[0m\u001b[1;33m,\u001b[0m \u001b[0mG\u001b[0m\u001b[1;33m,\u001b[0m \u001b[0mR\u001b[0m \u001b[1;33m=\u001b[0m \u001b[0mcv2\u001b[0m\u001b[1;33m.\u001b[0m\u001b[0msplit\u001b[0m\u001b[1;33m(\u001b[0m\u001b[0mimg\u001b[0m\u001b[1;33m)\u001b[0m\u001b[1;33m\u001b[0m\u001b[1;33m\u001b[0m\u001b[0m\n\u001b[0m\u001b[0;32m      4\u001b[0m \u001b[1;33m\u001b[0m\u001b[0m\n\u001b[0;32m      5\u001b[0m \u001b[1;33m\u001b[0m\u001b[0m\n",
      "\u001b[1;31mValueError\u001b[0m: not enough values to unpack (expected 3, got 0)"
     ]
    }
   ],
   "source": [
    "img = cv2.imread('images/weird_cat.bmp')\n",
    "\n",
    "B, G, R = cv2.split(img)\n",
    "\n",
    "\n",
    "blue_frame = np.zeros_like(img)\n",
    "blue_frame[:,:,0] = B\n",
    "blue_frame = cv2.putText(blue_frame, 'Blue Colored', ORIG, FONT, SCALE, COL, THK, cv2.LINE_AA)\n",
    "\n",
    "green_frame = np.zeros_like(img)\n",
    "green_frame[:,:,1] = G\n",
    "green_frame = cv2.putText(green_frame, 'Green Colored', ORIG, FONT, SCALE, COL, THK, cv2.LINE_AA)\n",
    "\n",
    "red_frame = np.zeros_like(img)\n",
    "red_frame[:,:,2] = R\n",
    "red_frame = cv2.putText(red_frame, 'Red Colored', ORIG, FONT, SCALE, COL, THK, cv2.LINE_AA)\n",
    "\n",
    "img_colaj = colaj([img, blue_frame, green_frame, red_frame], 2, 2)\n",
    "cv2.imshow('RGB Extraction', img_colaj)\n",
    "cv2.waitKey(0)\n",
    "cv2.destroyAllWindows()"
   ]
  },
  {
   "cell_type": "markdown",
   "id": "49c10a8e",
   "metadata": {},
   "source": [
    "## Formate de imagine digitala\n",
    " - JPEG\n",
    " - PNG\n",
    " - BMP"
   ]
  },
  {
   "cell_type": "markdown",
   "id": "2e1be18d",
   "metadata": {},
   "source": [
    "#### Convertire formate imagine"
   ]
  },
  {
   "cell_type": "code",
   "execution_count": 7,
   "id": "3a216ec4",
   "metadata": {},
   "outputs": [],
   "source": [
    "import cv2\n",
    "import numpy as np\n",
    "\n",
    "img = cv2.imread('images/weird_cat.bmp')\n",
    "\n",
    "cv2.imshow('img', img)\n",
    "cv2.imwrite('images/weird_cat.jpg', img)\n",
    "cv2.imwrite('images/weird_cat.png', img)\n",
    "cv2.waitKey(0)\n",
    "cv2.destroyAllWindows()"
   ]
  },
  {
   "cell_type": "markdown",
   "id": "991b5059",
   "metadata": {},
   "source": [
    "#### Text in imagini"
   ]
  },
  {
   "cell_type": "code",
   "execution_count": 1,
   "id": "60365853",
   "metadata": {},
   "outputs": [],
   "source": [
    "import cv2\n",
    "import numpy as np\n",
    "\n",
    "img = cv2.imread('images/weird_cat.bmp')\n",
    "\n",
    "img = cv2.putText(img, 'Hello, there', (100, 100), cv2.FONT_HERSHEY_SIMPLEX, 2, (255, 0, 0), 6, cv2.LINE_AA)\n",
    "\n",
    "cv2.imshow('img', img)\n",
    "cv2.imwrite('images/weird_cat_text.jpg', img)\n",
    "cv2.imwrite('images/weird_cat_text.png', img)\n",
    "cv2.imwrite('images/weird_cat_text.bmp', img)\n",
    "cv2.waitKey(0)\n",
    "cv2.destroyAllWindows()"
   ]
  },
  {
   "cell_type": "markdown",
   "id": "022eb875",
   "metadata": {},
   "source": [
    "#### TODO: cititi cele 3 imagini salvate mai sus, decupati din ele doar textul si afisati rezultatele, observand diferentele\n",
    "#### Pentru a observa diferentele mai bine, redimensionati decupajele cu textele pentru a fi de 4 sau 5 ori mai mari\n",
    "\n",
    "Putem decupa o sectiune dintr-o imagine astfel:\n",
    "\n",
    "`decupaj_img = img[rand_start:rand_end, col_start:col_end]`\n",
    "\n",
    "`decupaj_img` fiind la randul sau o imagine"
   ]
  },
  {
   "cell_type": "code",
   "execution_count": null,
   "id": "de6ff75c",
   "metadata": {},
   "outputs": [],
   "source": [
    "import cv2\n",
    "img_jpg = cv2.imread('images/weird_cat_text.jpg')\n",
    "img_jpg = img_jpg[80:100, 100:200]\n",
    "\n",
    "img_png = cv2.imread('images/weird_cat_text.png')\n",
    "img_png = img_png[80:100, 100:200]\n",
    "\n",
    "\n",
    "img_bmp = cv2.imread('images/weird_cat_text.bmp')\n",
    "img_bmp = img_bmp[80:100, 100:200]\n",
    "\n",
    "sf = 5\n",
    "\n",
    "img_jpg = cv2.resize(img_jpg, None, fx=sf, fy=sf)\n",
    "img_png = cv2.resize(img_png, None, fx=sf, fy=sf)\n",
    "img_bmp = cv2.resize(img_bmp, None, fx=sf, fy=sf)\n",
    "#print(img_jpg.shape)\n",
    "\n",
    "cv2.imshow('Text in JPEG', colaj([img_jpg, img_png, img_bmp], 3, 1))\n",
    "cv2.waitKey(0)\n",
    "cv2.destroyAllWindows()"
   ]
  },
  {
   "cell_type": "markdown",
   "id": "175dabbc",
   "metadata": {},
   "source": [
    "#### JPEG si nivelurile de compresie"
   ]
  },
  {
   "cell_type": "code",
   "execution_count": 1,
   "id": "3a45470c",
   "metadata": {},
   "outputs": [],
   "source": [
    "import cv2\n",
    "\n",
    "FONT = cv2.FONT_HERSHEY_SIMPLEX\n",
    "SCALE = 2\n",
    "COL = (255, 0, 0)\n",
    "THK = 5\n",
    "ORIG = (100, 100)\n",
    "\n",
    "img = cv2.imread('images/weird_cat.jpg')\n",
    "\n",
    "img = cv2.putText(img, 'Hello, there', ORIG, FONT, SCALE, COL, THK, cv2.LINE_AA)\n",
    "\n",
    "cv2.imshow('img', img)\n",
    "cv2.imwrite('images/weird_cat_text_jpeg_default.jpg', img) #95\n",
    "cv2.imwrite('images/weird_cat_text_jpeg_100.jpg', img, [int(cv2.IMWRITE_JPEG_QUALITY), 100])\n",
    "cv2.imwrite('images/weird_cat_text_jpeg_50.jpg', img, [int(cv2.IMWRITE_JPEG_QUALITY), 50])\n",
    "cv2.waitKey(0)\n",
    "cv2.destroyAllWindows()"
   ]
  },
  {
   "cell_type": "markdown",
   "id": "1a1254a7",
   "metadata": {},
   "source": [
    "#### TODO: Cititi imaginile JPEG salvate mai sus cu niveluri diferite de compresie, decupati sectiunile de imagine cu text, mariti-le dimensiunile si observati diferentele intre cele 3."
   ]
  },
  {
   "cell_type": "code",
   "execution_count": 4,
   "id": "a5c457c2",
   "metadata": {},
   "outputs": [],
   "source": [
    "img_jpg_1 = cv2.imread('images/weird_cat_text_jpeg_default.jpg')\n",
    "img_jpg_100 = cv2.imread('images/weird_cat_text_jpeg_100.jpg')\n",
    "img_jpg_50 = cv2.imread('images/weird_cat_text_jpeg_50.jpg')\n",
    "\n",
    "img_jpg_1 = img_jpg_1[80:100, 100:200]\n",
    "img_jpg_100 = img_jpg_100[80:100, 100:200]\n",
    "img_jpg_50 = img_jpg_50[80:100, 100:200]\n",
    "\n",
    "sf = 6\n",
    "\n",
    "img_jpg_1 = cv2.resize(img_jpg_1, None, fx=sf, fy=sf)\n",
    "img_jpg_100 = cv2.resize(img_jpg_100, None, fx=sf, fy=sf)\n",
    "img_jpg_50 = cv2.resize(img_jpg_50, None, fx=sf, fy=sf)\n",
    "\n",
    "cv2.imshow('JPEG Default 95', img_jpg_1)\n",
    "cv2.imshow('JPEG Default 100', img_jpg_100)\n",
    "cv2.imshow('JPEG Default 50', img_jpg_50)\n",
    "cv2.waitKey(0)\n",
    "cv2.destroyAllWindows()"
   ]
  },
  {
   "cell_type": "markdown",
   "id": "681e5361",
   "metadata": {},
   "source": [
    "#### TODO: Cititi imaginea JPEG salvata mai sus cu calitate 50 si convertiti-o in BMP (salvand-o pe disc)\n",
    "#### Cititi imaginea BMP salvata si comparati cu JPEG-ul din care ati convertit-o, dar si cu imaginea BMP initiala (*weird_cat.bmp*)\n",
    "Ce se intampla cu calitatea unei imagini o data ce a fost comprimata lossy?"
   ]
  },
  {
   "cell_type": "code",
   "execution_count": 7,
   "id": "a8c3df57",
   "metadata": {},
   "outputs": [],
   "source": [
    "img_jpg = cv2.imread('images/weird_cat_text_jpeg_50.jpg')\n",
    "\n",
    "cv2.imwrite('images/weird_cat_text_jpeg_50.bmp', img_jpg)\n",
    "\n",
    "img_bmp = cv2.imread('images/weird_cat_text_jpeg_50.bmp')\n",
    "img_orig = cv2.imread('images/weird_cat.bmp')\n",
    "\n",
    "cv2.imshow('JPEG 50', img_jpg)\n",
    "cv2.imshow('BMP', img_bmp)\n",
    "cv2.imshow('Original', img_orig)\n",
    "\n",
    "cv2.waitKey(0)\n",
    "cv2.destroyAllWindows()"
   ]
  },
  {
   "cell_type": "markdown",
   "id": "df68b7f2",
   "metadata": {},
   "source": [
    "## PNG. Aplicarea unei masti pe o imagine folosind transparenta"
   ]
  },
  {
   "cell_type": "markdown",
   "id": "393f53c4",
   "metadata": {},
   "source": [
    "#### Abordarea 1\n",
    "Observatie: Imaginea salvata si deschisa cu o alta aplicatie va da rezultatul corect, insa OpenCV nu va afisa masca (deoarece nu tine cont de canalul alfa in *imshow*"
   ]
  },
  {
   "cell_type": "code",
   "execution_count": 3,
   "id": "51263567",
   "metadata": {},
   "outputs": [],
   "source": [
    "import cv2\n",
    "import numpy as np\n",
    "\n",
    "png_image = cv2.imread(\"images/cat_head.png \", cv2.IMREAD_UNCHANGED)  #Read with alpha channel included\n",
    "jpg_image = cv2.imread(\"images/dog.jpg \")\n",
    "\n",
    "cv2.imshow(\"Cat PNG Image\", png_image)\n",
    "cv2.imshow (\"Dog JPEG Image\", jpg_image)\n",
    "\n",
    "width, height, dim = png_image.shape\n",
    "# Dimensiunile imaginii si al canalului de alfa din PNG (masca) trebuie sa coincida\n",
    "# In caz contrar, redimensionam imaginea\n",
    "if( (jpg_image.shape[0] != width) or (jpg_image.shape[1] != height) ):\n",
    "    jpg_image = cv2.resize(jpg_image, (height,width))\n",
    "    \n",
    "# Creare imagine goala (neagra) cu dimensiunile imaginii PNG de unde luam masca\n",
    "output = np.zeros_like(png_image)\n",
    "\n",
    "# Copiem imaginea initiala in cea goala, pe care am creat-o (output)\n",
    "output[:,:,0:3] = jpg_image\n",
    "# Copiem canalul de alfa din PNG\n",
    "output[:,:,3] = png_image[:,:,3]\n",
    "\n",
    "cv2.imshow(\"Dog in cat shape?\", output)\n",
    "cv2.imwrite(\"images/dog_masked_v1.png\", output)\n",
    "cv2.waitKey(0)\n",
    "cv2.destroyAllWindows()"
   ]
  },
  {
   "cell_type": "markdown",
   "id": "28079250",
   "metadata": {},
   "source": [
    "#### TODO: Abordarea 2\n",
    "Pentru o afisare corecta in imshow, selectam toti pixelii care trebuie sa fie transparenti si le setam valorile pe celelalte 3 canale (pe B, G si R) la 0. Astfel, vom vizualiza cu negru pixelii care trebuie sa fie transparenti."
   ]
  },
  {
   "cell_type": "code",
   "execution_count": 14,
   "id": "116b5c65",
   "metadata": {},
   "outputs": [
    {
     "name": "stdout",
     "output_type": "stream",
     "text": [
      "Pixelul transparent  1  are pozitia x =  0  si y =  0\n",
      "Pixelul transparent  2  are pozitia x =  0  si y =  1\n",
      "(1241, 730, 4)\n"
     ]
    }
   ],
   "source": [
    "def jpeg_to_png_with_transparency(image, alpha_channel):\n",
    "    # Redimensionam imaginea daca este necesar\n",
    "    if( (image.shape[0] != alpha_channel.shape[0]) or (image.shape[1] != alpha_channel.shape[1]) ):\n",
    "        image = cv2.resize(image, (alpha_channel.shape[1], alpha_channel.shape[0]))\n",
    "                           \n",
    "    # Creare imagine goala (neagra) de aceeasi dimensiune cu imaginea initiala, dar cu canal de alfa\n",
    "    output = np.zeros((image.shape[0], image.shape[1], 4))\n",
    "    \n",
    "    output[:,:,0:3] = image.copy()\n",
    "    output[:,:,3] = alpha_channel\n",
    "    output = output.astype(np.uint8)\n",
    "    \n",
    "    # Extragere indecsi unde canalul alfa este 0 (unde imaginea trebuie sa fie transparenta)\n",
    "    # alpha_zero este un tuplu care va contine 2 array-uri: \n",
    "    # primul array va specifica randul (x), iar al doilea array va specifica coloana (y)\n",
    "    # pe care exista un pixel care trebuie sa fie transparent\n",
    "    alpha_zero = np.where(alpha_channel == 0)\n",
    "    \n",
    "    for i in range(0, len(alpha_zero[0])):\n",
    "        # Printam doar primele 2 elemente\n",
    "        if( i == 0 or i == 1 ):\n",
    "            print(\"Pixelul transparent \", i+1,\" are pozitia x = \", alpha_zero[0][i], \" si y = \", alpha_zero[1][i])\n",
    "        \n",
    "    return output\n",
    "\n",
    "png_image = cv2.imread(\"images/cat_head.png \", cv2.IMREAD_UNCHANGED)  #Read with alpha channel included\n",
    "jpg_image = cv2.imread(\"images/dog.jpg \")\n",
    "output = jpeg_to_png_with_transparency(jpg_image, png_image[:,:,3])\n",
    "\n",
    "print(output.shape)\n",
    "\n",
    "cv2.imshow(\"Dog in cat shape\", output)\n",
    "cv2.imwrite(\"images/dog_masked_v2.png\", output)\n",
    "cv2.waitKey(0)\n",
    "cv2.destroyAllWindows()"
   ]
  },
  {
   "cell_type": "markdown",
   "id": "4a9a6a5e",
   "metadata": {},
   "source": [
    "#### TODO: afisati un colaj cu cele 3 imagini obtinute mai sus. Modificati functia *colaj* pentru a functiona pe o lista de imagini care au numar de canale diferite (atat imagini cu canalul de alfa, cat si imagini fara)\n",
    "Hint: Cum OpenCV nu ia in considerare canalul de alfa, putem reunta la el pentru afisarea cu functia *colaj*"
   ]
  },
  {
   "cell_type": "code",
   "execution_count": 13,
   "id": "e4ad670e",
   "metadata": {},
   "outputs": [
    {
     "name": "stdout",
     "output_type": "stream",
     "text": [
      "(1241, 730, 4)\n",
      "Alpha channel detected\n",
      "(1241, 730, 3)\n",
      "(1241, 730, 4)\n",
      "Alpha channel detected\n"
     ]
    }
   ],
   "source": [
    "def colaj(img_array, cols, rows):\n",
    "    if( (cols * rows) > len(img_array) ):\n",
    "        for i in range(0, ((cols * rows) - len(img_array)) ):\n",
    "            #print(\"added shape: \", img_array[0].shape)\n",
    "            img_array.append(np.zeros_like(img_array[0]))\n",
    "    if( len(img_array[0].shape) == 2 ):\n",
    "        h, w = img_array[0].shape\n",
    "    else:\n",
    "        h, w, _ = img_array[0].shape\n",
    "    full_frame = np.zeros([h*rows, w*cols,3])\n",
    "    i_array = 0\n",
    "    for j_col in range(0, cols):\n",
    "        for i_row in range(0, rows):\n",
    "            if( len(img_array[i_array].shape) == 2 ):\n",
    "                img_array[i_array] = cv2.cvtColor(img_array[i_array], cv2.COLOR_GRAY2BGR)\n",
    "            # TODO: verificati numarul de canale\n",
    "            print(img_array[i_array].shape)\n",
    "            if ( img_array[i_array].shape[2] == 4 ):\n",
    "                print(\"Alpha channel detected\")\n",
    "                img_array[i_array] = cv2.cvtColor(img_array[i_array], cv2.COLOR_BGRA2BGR)\n",
    "                \n",
    "            full_frame[i_row*h:(i_row+1)*h, j_col*w:(j_col+1)*w, :] = img_array[i_array]\n",
    "            i_array += 1\n",
    "    return np.array(full_frame).astype(np.uint8)\n",
    "\n",
    "\n",
    "display = colaj([png_image, jpg_image, output], 3, 1)\n",
    "cv2.imshow(\"Colaj\", display)\n",
    "cv2.waitKey(0)\n",
    "cv2.destroyAllWindows()"
   ]
  },
  {
   "cell_type": "code",
   "execution_count": null,
   "id": "6a27a219",
   "metadata": {},
   "outputs": [],
   "source": []
  }
 ],
 "metadata": {
  "interpreter": {
   "hash": "c628eb20b28fcb4f2849787310dd29a89cba0f0253793cffc3b4087d72328999"
  },
  "kernelspec": {
   "display_name": "Python 3.10.2 ('am')",
   "language": "python",
   "name": "python3"
  },
  "language_info": {
   "codemirror_mode": {
    "name": "ipython",
    "version": 3
   },
   "file_extension": ".py",
   "mimetype": "text/x-python",
   "name": "python",
   "nbconvert_exporter": "python",
   "pygments_lexer": "ipython3",
   "version": "3.10.2"
  }
 },
 "nbformat": 4,
 "nbformat_minor": 5
}
