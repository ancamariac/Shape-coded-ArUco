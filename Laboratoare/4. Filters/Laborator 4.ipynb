{
 "cells": [
  {
   "cell_type": "markdown",
   "id": "bfc3b90c",
   "metadata": {},
   "source": [
    "Inainte de executarea laboratorului, rulati:\n",
    " - pip install scipy\n",
    " - pip install audio_metadata\n",
    " \n",
    "Dezarhivati continutul arhivei *samples.zip* de pe Moodle intr-un folder **samples** aflat la aceeasi locatie ca notebook-ul."
   ]
  },
  {
   "cell_type": "markdown",
   "id": "99c6a6a3",
   "metadata": {},
   "source": [
    "## Functii procesare"
   ]
  },
  {
   "cell_type": "code",
   "execution_count": null,
   "id": "139adcf2",
   "metadata": {},
   "outputs": [],
   "source": [
    "import numpy as np\n",
    "import matplotlib.pyplot as plt\n",
    "import wave\n",
    "from scipy.io import wavfile\n",
    "import contextlib\n",
    "import os\n",
    "import IPython\n",
    "\n",
    "\n",
    "# from http://stackoverflow.com/questions/2226853/interpreting-wav-data/2227174#2227174\n",
    "def interpret_wav(raw_bytes, n_frames, n_channels, sample_width, interleaved = True):\n",
    "\n",
    "    if sample_width == 1:\n",
    "        dtype = np.uint8 # unsigned char\n",
    "    elif sample_width == 2:\n",
    "        dtype = np.int16 # signed 2-byte short\n",
    "    else:\n",
    "        raise ValueError(\"Only supports 8 and 16 bit audio formats.\")\n",
    "\n",
    "    channels = np.frombuffer(raw_bytes, dtype=dtype)\n",
    "\n",
    "    if interleaved:\n",
    "        # channels are interleaved, i.e. sample N of channel M follows sample N of channel M-1 in raw data\n",
    "        channels.shape = (n_frames, n_channels)\n",
    "        channels = channels.T\n",
    "    else:\n",
    "        # channels are not interleaved. All samples from channel M occur before all samples from channel M-1\n",
    "        channels.shape = (n_channels, n_frames)\n",
    "\n",
    "    return channels\n",
    "\n",
    "def get_start_end_frames(nFrames, sampleRate, tStart=None, tEnd=None):\n",
    "\n",
    "    if tStart and tStart*sampleRate<nFrames:\n",
    "        start = tStart*sampleRate\n",
    "    else:\n",
    "        start = 0\n",
    "\n",
    "    if tEnd and tEnd*sampleRate<nFrames and tEnd*sampleRate>start:\n",
    "        end = tEnd*sampleRate\n",
    "    else:\n",
    "        end = nFrames\n",
    "\n",
    "    return (start,end,end-start)\n",
    "\n",
    "def extract_audio(fname, tStart=None, tEnd=None):\n",
    "    with contextlib.closing(wave.open(fname,'rb')) as spf:\n",
    "        sampleRate = spf.getframerate()\n",
    "        ampWidth = spf.getsampwidth()\n",
    "        nChannels = spf.getnchannels()\n",
    "        nFrames = spf.getnframes()\n",
    "\n",
    "        startFrame, endFrame, segFrames = get_start_end_frames(nFrames, sampleRate, tStart, tEnd)\n",
    "\n",
    "        # Extract Raw Audio from multi-channel Wav File\n",
    "        spf.setpos(startFrame)\n",
    "        sig = spf.readframes(segFrames)\n",
    "        spf.close()\n",
    "\n",
    "        channels = interpret_wav(sig, segFrames, nChannels, ampWidth, True)\n",
    "\n",
    "        return (channels, nChannels, sampleRate, ampWidth, nFrames)\n",
    "\n",
    "def convert_to_mono(channels, nChannels, outputType):\n",
    "    if nChannels == 2:\n",
    "        print('Fisierul audio are 2 canale')\n",
    "        samples = np.mean(np.array([channels[0], channels[1]]), axis=0)  # Convert to mono\n",
    "        dif = np.sum(np.abs(np.array(channels[0]) - np.array(channels[1])))\n",
    "        if( dif == 0 ):\n",
    "            print('\\tCele doua canale sunt identice')\n",
    "        else:\n",
    "            print('\\tExista diferente intre cele 2 canale')\n",
    "    else:\n",
    "        print('Fisierul audio are 1 canal')\n",
    "        samples = channels[0]\n",
    "\n",
    "    return samples.astype(outputType)\n",
    "\n",
    "def plot_specgram(samples, sampleRate, tStart=None, tEnd=None):\n",
    "    plt.figure(figsize=(20,10))\n",
    "    plt.specgram(samples, Fs=sampleRate, NFFT=1024, noverlap=192, cmap='nipy_spectral', xextent=(tStart,tEnd))\n",
    "    plt.ylabel('Frequency [Hz]')\n",
    "    plt.xlabel('Time [sec]')\n",
    "    plt.show()\n",
    "\n",
    "def plot_audio_samples(title, samples, sampleRate, tStart=None, tEnd=None):\n",
    "    if not tStart:\n",
    "        tStart = 0\n",
    "\n",
    "    if not tEnd or tStart>tEnd:\n",
    "        tEnd = len(samples)/sampleRate\n",
    "\n",
    "    f, axarr = plt.subplots(2, sharex=True, figsize=(20,10))\n",
    "    axarr[0].set_title(title)\n",
    "    axarr[0].plot(np.linspace(tStart, tEnd, len(samples)), samples)\n",
    "    axarr[1].specgram(samples, Fs=sampleRate, NFFT=1024, noverlap=192, cmap='nipy_spectral', xextent=(tStart,tEnd))\n",
    "    #get_specgram(axarr[1], samples, sampleRate, tStart, tEnd)\n",
    "\n",
    "    axarr[0].set_ylabel('Amplitude')\n",
    "    axarr[1].set_ylabel('Frequency [Hz]')\n",
    "    plt.xlabel('Time [sec]')\n",
    "\n",
    "    plt.show()\n",
    "    \n",
    "def plot_two_channels(title, channel1, channel2, sampleRate, tStart=None, tEnd=None):\n",
    "    if not tStart:\n",
    "        tStart = 0\n",
    "\n",
    "    if not tEnd or tStart>tEnd:\n",
    "        tEnd = len(samples)/sampleRate\n",
    "        \n",
    "    plt.figure(figsize=(14, 5), dpi=80)\n",
    "    plt.title(title)\n",
    "    plt.plot(np.linspace(tStart, tEnd, len(channel1)), channel1, 'b')\n",
    "    plt.plot(np.linspace(tStart, tEnd, len(channel2)), channel2, 'r')\n",
    "\n",
    "    plt.ylabel('Amplitude')\n",
    "    plt.xlabel('Time [sec]')\n",
    "\n",
    "    plt.show()\\\n",
    "    \n",
    "def get_audio_duration( file_name ):\n",
    "    with contextlib.closing(wave.open(file_name,'r')) as f:\n",
    "        frames = f.getnframes()\n",
    "        rate = f.getframerate()\n",
    "        duration = frames / float(rate)\n",
    "        return (duration, rate)\n",
    "    return (0, 0)\n"
   ]
  },
  {
   "cell_type": "markdown",
   "id": "321bc2ef",
   "metadata": {},
   "source": [
    "## Audio 1 - semnal dreptunghiular"
   ]
  },
  {
   "cell_type": "markdown",
   "id": "b7785a11",
   "metadata": {},
   "source": [
    "#### [Play audio] Square wave - original"
   ]
  },
  {
   "cell_type": "code",
   "execution_count": null,
   "id": "194aa4a0",
   "metadata": {},
   "outputs": [],
   "source": [
    "audio_file = 'samples/square_wave.wav'\n",
    "\n",
    "IPython.display.Audio( audio_file )"
   ]
  },
  {
   "cell_type": "markdown",
   "id": "2fc69880",
   "metadata": {},
   "source": [
    "#### Afisare informatii si grafice amplitudine si frecventa"
   ]
  },
  {
   "cell_type": "code",
   "execution_count": null,
   "id": "ec0a3262",
   "metadata": {},
   "outputs": [],
   "source": [
    "duration, sample_rate = get_audio_duration( audio_file )\n",
    "bit_depth = 16\n",
    "nb_channels = 2\n",
    "bitrate = sample_rate * bit_depth * nb_channels\n",
    "estimated_dim = int( ( duration * sample_rate * bit_depth * nb_channels ) / 8 )\n",
    "file_dim = os.path.getsize(audio_file)\n",
    "\n",
    "# Interval de secvente de timp de analizat\n",
    "tStart = 0\n",
    "tEnd = 1\n",
    "\n",
    "print( \"Durata audio: \", duration, \"s, Frecventa: \", sample_rate, \"Hz, Bitrate: \", bitrate, \\\n",
    "      \"bps, Dimensiune calculata: \", estimated_dim, \"B\" )\n",
    "print(\"Dimensiune fisier pe disk: \", file_dim, 'B')\n",
    "print(\"Metadate: \", file_dim - estimated_dim, 'b')\n",
    "\n",
    "channels, nChannels, sampleRate, ampWidth, nFrames = extract_audio(audio_file, tStart, tEnd)\n",
    "one_channel = convert_to_mono(channels, nChannels, np.int16)\n",
    "\n",
    "plot_audio_samples(\"Grafice square wave\", one_channel, sampleRate, tStart, tEnd)\n",
    "\n",
    "wavfile.write('samples/square_wave_mono.wav', sampleRate, one_channel)"
   ]
  },
  {
   "cell_type": "markdown",
   "id": "338d3b41",
   "metadata": {},
   "source": [
    "#### Detaliere si afisare canale"
   ]
  },
  {
   "cell_type": "code",
   "execution_count": null,
   "id": "bf6857b3",
   "metadata": {},
   "outputs": [],
   "source": [
    "channel1 = channels[0].astype(np.int16)\n",
    "channel2 = channels[1].astype(np.int16)\n",
    "\n",
    "plot_two_channels(\"Square wave - 2 canale suprapuse\", channel1, channel2, sampleRate, tStart, tEnd)\n",
    "\n",
    "wavfile.write('samples/square_wave_channel1.wav', sampleRate, channel1.T)\n",
    "wavfile.write('samples/square_wave_channel2.wav', sampleRate, channel2.T)"
   ]
  },
  {
   "cell_type": "markdown",
   "id": "165fdda2",
   "metadata": {},
   "source": [
    "#### [Play audio] Square Wave - mono channel"
   ]
  },
  {
   "cell_type": "code",
   "execution_count": null,
   "id": "97dbf116",
   "metadata": {},
   "outputs": [],
   "source": [
    "IPython.display.Audio(\"samples/square_wave_mono.wav\")"
   ]
  },
  {
   "cell_type": "markdown",
   "id": "43b4c8f2",
   "metadata": {},
   "source": [
    "#### [Play audio] Square Wave - canal 1"
   ]
  },
  {
   "cell_type": "code",
   "execution_count": null,
   "id": "4c46df33",
   "metadata": {},
   "outputs": [],
   "source": [
    "IPython.display.Audio(\"samples/square_wave_channel1.wav\")"
   ]
  },
  {
   "cell_type": "markdown",
   "id": "8268d744",
   "metadata": {},
   "source": [
    "#### [Play audio] Square Wave - canal 2"
   ]
  },
  {
   "cell_type": "code",
   "execution_count": null,
   "id": "fb24702e",
   "metadata": {},
   "outputs": [],
   "source": [
    "IPython.display.Audio(\"samples/square_wave_channel2.wav\")"
   ]
  },
  {
   "cell_type": "markdown",
   "id": "c9aa1f33",
   "metadata": {},
   "source": [
    "#### Metadate fisier square wave"
   ]
  },
  {
   "cell_type": "code",
   "execution_count": null,
   "id": "bd371a39",
   "metadata": {},
   "outputs": [],
   "source": [
    "import audio_metadata\n",
    "\n",
    "metadata = audio_metadata.load( audio_file )\n",
    "print(metadata)\n",
    "print(metadata.streaminfo.bit_depth)"
   ]
  },
  {
   "cell_type": "markdown",
   "id": "acc04f73",
   "metadata": {},
   "source": [
    "## Audio 2"
   ]
  },
  {
   "cell_type": "code",
   "execution_count": null,
   "id": "cc2b93dd",
   "metadata": {},
   "outputs": [],
   "source": [
    "audio_file = 'samples/Queen_Bohemian_Rhapsody.wav'\n",
    "# TODO: Play audio"
   ]
  },
  {
   "cell_type": "code",
   "execution_count": null,
   "id": "006a7eb7",
   "metadata": {},
   "outputs": [],
   "source": [
    "# TODO: determinare si afisare informatii: durata, bitrate, sample rate, dimensiune\\\n",
    "\n",
    "# Interval de secvente de timp de analizat\n",
    "tStart = 188\n",
    "tEnd = 205\n",
    "\n",
    "# TODO: taiere fisier in intervalul de timp [tStart, tEnd] si extragere canale\n",
    "\n",
    "# TODO : convetire la un singur canal\n",
    "\n",
    "# TODO: plotare amplitudine si frecventa in interval [tStart, tEnd]\n",
    "\n",
    "# Salvare audio canal mono\n",
    "mono_channel_filename = 'samples/Queen_Bohemian_mono.wav'\n"
   ]
  },
  {
   "cell_type": "markdown",
   "id": "7d6569b3",
   "metadata": {},
   "source": [
    "#### Verificare fisier salvat"
   ]
  },
  {
   "cell_type": "code",
   "execution_count": null,
   "id": "97c8a99e",
   "metadata": {},
   "outputs": [],
   "source": [
    "IPython.display.Audio(mono_channel_filename)"
   ]
  },
  {
   "cell_type": "code",
   "execution_count": null,
   "id": "0d1b8356",
   "metadata": {},
   "outputs": [],
   "source": [
    "channels_m, nChannels_m, sampleRate_m, ampWidth_m, nFrames_m = extract_audio(mono_channel_filename, tStart, tEnd)\n",
    "one_channel_m = convert_to_mono(channels_m, nChannels_m, np.int16)"
   ]
  },
  {
   "cell_type": "code",
   "execution_count": null,
   "id": "96b40d8b",
   "metadata": {},
   "outputs": [],
   "source": [
    "metadata = audio_metadata.load( audio_file )\n",
    "print(metadata)"
   ]
  },
  {
   "cell_type": "markdown",
   "id": "db2edc55",
   "metadata": {},
   "source": [
    "#### Verificare si afisare canale"
   ]
  },
  {
   "cell_type": "code",
   "execution_count": null,
   "id": "7cf632fd",
   "metadata": {},
   "outputs": [],
   "source": [
    "# TODO: extragere canale\n",
    "\n",
    "# TODO: Plotare canale suprapuse\n",
    "\n",
    "# TODO: Scriere fisere separate pentru fiecare canal"
   ]
  },
  {
   "cell_type": "markdown",
   "id": "c353b924",
   "metadata": {},
   "source": [
    "#### [Play Audio] Bohemian Rapsody - canal 1"
   ]
  },
  {
   "cell_type": "code",
   "execution_count": null,
   "id": "98d1b1b6",
   "metadata": {},
   "outputs": [],
   "source": []
  },
  {
   "cell_type": "markdown",
   "id": "5fd6e569",
   "metadata": {},
   "source": [
    "#### [Play Audio] Bohemian Rapsody - canal 2"
   ]
  },
  {
   "cell_type": "code",
   "execution_count": null,
   "id": "b9545801",
   "metadata": {},
   "outputs": [],
   "source": []
  },
  {
   "cell_type": "markdown",
   "id": "5c21168c",
   "metadata": {},
   "source": [
    "## Fisier MP3"
   ]
  },
  {
   "cell_type": "code",
   "execution_count": null,
   "id": "c31fc4da",
   "metadata": {},
   "outputs": [],
   "source": [
    "audio_file = 'samples/Queen_Bohemian_Rhapsody.mp3'\n",
    "metadata_mp3 = audio_metadata.load( audio_file )\n",
    "print(\"Metadate MP3: \", metadata_mp3)\n",
    "\n",
    "audio_file = 'samples/Queen_Bohemian_Rhapsody.wav'\n",
    "metadata_wav = audio_metadata.load( audio_file )\n",
    "print(\"Metadate WAV: \", metadata_wav)\n",
    "\n",
    "print(\"Diferente samplerate: \\t\", metadata_mp3.streaminfo.sample_rate, \" \\tvs.\\t \", metadata_wav.streaminfo.sample_rate)\n",
    "print(\"Diferente bitrate: \\t\", metadata_mp3.streaminfo.bitrate, \" \\tvs.\\t \", metadata_wav.streaminfo.bitrate)\n",
    "print(\"Diferente dimesniune: \\t\", metadata_mp3.filesize, \" \\tvs.\\t \", metadata_wav.filesize)"
   ]
  }
 ],
 "metadata": {
  "kernelspec": {
   "display_name": "Python 3 (ipykernel)",
   "language": "python",
   "name": "python3"
  },
  "language_info": {
   "codemirror_mode": {
    "name": "ipython",
    "version": 3
   },
   "file_extension": ".py",
   "mimetype": "text/x-python",
   "name": "python",
   "nbconvert_exporter": "python",
   "pygments_lexer": "ipython3",
   "version": "3.10.2"
  }
 },
 "nbformat": 4,
 "nbformat_minor": 5
}
